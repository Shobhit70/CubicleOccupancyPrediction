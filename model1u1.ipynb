{
 "cells": [
  {
   "cell_type": "code",
   "execution_count": 1,
   "metadata": {},
   "outputs": [
    {
     "name": "stderr",
     "output_type": "stream",
     "text": [
      "Using TensorFlow backend.\n"
     ]
    }
   ],
   "source": [
    "# Importing all necessary libraries \n",
    "from keras.preprocessing.image import ImageDataGenerator \n",
    "from keras.models import Sequential \n",
    "from keras.layers import Conv2D, MaxPooling2D \n",
    "from keras.layers import Activation, Dropout, Flatten, Dense \n",
    "from keras import backend as K"
   ]
  },
  {
   "cell_type": "code",
   "execution_count": 14,
   "metadata": {},
   "outputs": [],
   "source": [
    "train_data_dir = './images/train'\n",
    "validation_data_dir = './images/test'\n",
    "nb_train_samples =155 \n",
    "nb_validation_samples = 69\n",
    "epochs = 12\n",
    "batch_size = 16"
   ]
  },
  {
   "cell_type": "code",
   "execution_count": 15,
   "metadata": {},
   "outputs": [],
   "source": [
    "img_width, img_height = 150, 150\n",
    "if K.image_data_format() == 'channels_first': \n",
    "    input_shape = (3, img_width, img_height) \n",
    "else: \n",
    "    input_shape = (img_width, img_height, 3) "
   ]
  },
  {
   "cell_type": "code",
   "execution_count": 16,
   "metadata": {},
   "outputs": [],
   "source": [
    "model = Sequential() \n",
    "model.add(Conv2D(32, (2, 2), input_shape = input_shape)) \n",
    "model.add(Activation('relu')) \n",
    "model.add(MaxPooling2D(pool_size =(2, 2))) \n",
    "  \n",
    "model.add(Conv2D(32, (2, 2))) \n",
    "model.add(Activation('relu')) \n",
    "model.add(MaxPooling2D(pool_size =(2, 2))) \n",
    "  \n",
    "model.add(Conv2D(64, (2, 2))) \n",
    "model.add(Activation('relu')) \n",
    "model.add(MaxPooling2D(pool_size =(2, 2))) \n",
    "  \n",
    "model.add(Flatten()) \n",
    "model.add(Dense(64)) \n",
    "model.add(Activation('relu')) \n",
    "model.add(Dropout(0.5)) \n",
    "model.add(Dense(1)) \n",
    "model.add(Activation('sigmoid'))"
   ]
  },
  {
   "cell_type": "code",
   "execution_count": 17,
   "metadata": {},
   "outputs": [],
   "source": [
    "model.compile(loss ='binary_crossentropy', \n",
    "                     optimizer ='rmsprop', \n",
    "                   metrics =['accuracy']) "
   ]
  },
  {
   "cell_type": "code",
   "execution_count": 18,
   "metadata": {},
   "outputs": [],
   "source": [
    "train_datagen = ImageDataGenerator( \n",
    "                rescale = 1. / 255, \n",
    "                 shear_range = 0.2, \n",
    "                  zoom_range = 0.2, \n",
    "            horizontal_flip = True)\n",
    "\n",
    "test_datagen = ImageDataGenerator(rescale = 1. / 255)"
   ]
  },
  {
   "cell_type": "code",
   "execution_count": 19,
   "metadata": {},
   "outputs": [
    {
     "name": "stdout",
     "output_type": "stream",
     "text": [
      "Found 155 images belonging to 2 classes.\n",
      "Found 69 images belonging to 2 classes.\n"
     ]
    }
   ],
   "source": [
    "train_generator = train_datagen.flow_from_directory(train_data_dir, \n",
    "                              target_size =(img_width, img_height), \n",
    "                     batch_size = batch_size, class_mode ='binary') \n",
    "  \n",
    "validation_generator = test_datagen.flow_from_directory( \n",
    "                                    validation_data_dir, \n",
    "                   target_size =(img_width, img_height), \n",
    "          batch_size = batch_size, class_mode ='binary') "
   ]
  },
  {
   "cell_type": "code",
   "execution_count": 20,
   "metadata": {},
   "outputs": [
    {
     "name": "stdout",
     "output_type": "stream",
     "text": [
      "Epoch 1/12\n",
      "9/9 [==============================] - 6s 720ms/step - loss: 0.7938 - acc: 0.6944 - val_loss: 0.5409 - val_acc: 0.7812\n",
      "Epoch 2/12\n",
      "9/9 [==============================] - 6s 632ms/step - loss: 0.5462 - acc: 0.7685 - val_loss: 0.7372 - val_acc: 0.6981\n",
      "Epoch 3/12\n",
      "9/9 [==============================] - 8s 866ms/step - loss: 0.6112 - acc: 0.7197 - val_loss: 0.5563 - val_acc: 0.7170\n",
      "Epoch 4/12\n",
      "9/9 [==============================] - 7s 816ms/step - loss: 0.5169 - acc: 0.7754 - val_loss: 0.5906 - val_acc: 0.7547\n",
      "Epoch 5/12\n",
      "9/9 [==============================] - 6s 684ms/step - loss: 0.4952 - acc: 0.7586 - val_loss: 0.4594 - val_acc: 0.7736\n",
      "Epoch 6/12\n",
      "9/9 [==============================] - 6s 668ms/step - loss: 0.4710 - acc: 0.7602 - val_loss: 0.4611 - val_acc: 0.7344\n",
      "Epoch 7/12\n",
      "9/9 [==============================] - 6s 653ms/step - loss: 0.3916 - acc: 0.7963 - val_loss: 0.4230 - val_acc: 0.7736\n",
      "Epoch 8/12\n",
      "9/9 [==============================] - 6s 621ms/step - loss: 0.3532 - acc: 0.8271 - val_loss: 0.4393 - val_acc: 0.8113\n",
      "Epoch 9/12\n",
      "9/9 [==============================] - 6s 636ms/step - loss: 0.3371 - acc: 0.8702 - val_loss: 0.4515 - val_acc: 0.8302\n",
      "Epoch 10/12\n",
      "9/9 [==============================] - 5s 608ms/step - loss: 0.2795 - acc: 0.8746 - val_loss: 0.6414 - val_acc: 0.8113\n",
      "Epoch 11/12\n",
      "9/9 [==============================] - 6s 652ms/step - loss: 0.2712 - acc: 0.9097 - val_loss: 0.3586 - val_acc: 0.8750\n",
      "Epoch 12/12\n",
      "9/9 [==============================] - 6s 636ms/step - loss: 0.2935 - acc: 0.8898 - val_loss: 0.3085 - val_acc: 0.8679\n"
     ]
    },
    {
     "data": {
      "text/plain": [
       "<keras.callbacks.History at 0x1f458d29588>"
      ]
     },
     "execution_count": 20,
     "metadata": {},
     "output_type": "execute_result"
    }
   ],
   "source": [
    "model.fit_generator(train_generator, \n",
    "    steps_per_epoch = nb_train_samples // batch_size, \n",
    "    epochs = epochs, validation_data = validation_generator, \n",
    "    validation_steps = nb_validation_samples // batch_size)"
   ]
  },
  {
   "cell_type": "code",
   "execution_count": 21,
   "metadata": {},
   "outputs": [],
   "source": [
    "model.save_weights('model_saved.h5') "
   ]
  },
  {
   "cell_type": "code",
   "execution_count": null,
   "metadata": {},
   "outputs": [],
   "source": []
  }
 ],
 "metadata": {
  "kernelspec": {
   "display_name": "Python 3",
   "language": "python",
   "name": "python3"
  },
  "language_info": {
   "codemirror_mode": {
    "name": "ipython",
    "version": 3
   },
   "file_extension": ".py",
   "mimetype": "text/x-python",
   "name": "python",
   "nbconvert_exporter": "python",
   "pygments_lexer": "ipython3",
   "version": "3.7.3"
  }
 },
 "nbformat": 4,
 "nbformat_minor": 2
}
