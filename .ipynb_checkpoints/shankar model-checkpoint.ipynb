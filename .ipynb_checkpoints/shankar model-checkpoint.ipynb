{
 "cells": [
  {
   "cell_type": "code",
   "execution_count": 20,
   "metadata": {},
   "outputs": [],
   "source": [
    "# Importing all necessary libraries \n",
    "from keras.preprocessing.image import ImageDataGenerator \n",
    "from keras.models import Sequential \n",
    "from keras.layers import Conv2D, MaxPooling2D \n",
    "from keras.layers import Activation, Dropout, Flatten, Dense \n",
    "from keras import backend as K\n",
    "\n",
    "import cv2 as cv"
   ]
  },
  {
   "cell_type": "code",
   "execution_count": 280,
   "metadata": {},
   "outputs": [],
   "source": [
    "train_data_dir = './images/train'\n",
    "validation_data_dir = './images/test'\n",
    "nb_train_samples =155 \n",
    "nb_validation_samples = 69\n",
    "epochs = 50\n",
    "batch_size = 10"
   ]
  },
  {
   "cell_type": "code",
   "execution_count": 281,
   "metadata": {},
   "outputs": [],
   "source": [
    "img_width, img_height = 150, 150\n",
    "if K.image_data_format() == 'channels_first': \n",
    "    input_shape = (3, img_width, img_height) \n",
    "else: \n",
    "    input_shape = (img_width, img_height, 3) "
   ]
  },
  {
   "cell_type": "code",
   "execution_count": 282,
   "metadata": {},
   "outputs": [],
   "source": [
    "model = Sequential() \n",
    "model.add(Conv2D(32, (2, 2), input_shape = input_shape)) \n",
    "model.add(Activation('relu')) \n",
    "model.add(MaxPooling2D(pool_size =(2, 2))) \n",
    "  \n",
    "model.add(Conv2D(32, (2, 2))) \n",
    "model.add(Activation('relu')) \n",
    "model.add(MaxPooling2D(pool_size =(2, 2))) \n",
    "  \n",
    "model.add(Conv2D(64, (2, 2))) \n",
    "model.add(Activation('relu')) \n",
    "model.add(MaxPooling2D(pool_size =(2, 2))) \n",
    "  \n",
    "model.add(Flatten()) \n",
    "model.add(Dense(64)) \n",
    "model.add(Activation('relu')) \n",
    "model.add(Dropout(0.5)) \n",
    "model.add(Dense(1)) \n",
    "model.add(Activation('sigmoid'))"
   ]
  },
  {
   "cell_type": "code",
   "execution_count": 283,
   "metadata": {},
   "outputs": [],
   "source": [
    "model.compile(loss ='binary_crossentropy', \n",
    "                     optimizer ='rmsprop', \n",
    "                   metrics =['accuracy']) "
   ]
  },
  {
   "cell_type": "code",
   "execution_count": 284,
   "metadata": {},
   "outputs": [],
   "source": [
    "train_datagen = ImageDataGenerator( \n",
    "                rescale = 1. / 255, \n",
    "                 shear_range = 0.2, \n",
    "                  zoom_range = 0.2, \n",
    "            horizontal_flip = True)\n",
    "\n",
    "test_datagen = ImageDataGenerator(rescale = 1. / 255)"
   ]
  },
  {
   "cell_type": "code",
   "execution_count": 285,
   "metadata": {},
   "outputs": [
    {
     "name": "stdout",
     "output_type": "stream",
     "text": [
      "Found 100 images belonging to 2 classes.\n",
      "Found 44 images belonging to 2 classes.\n"
     ]
    }
   ],
   "source": [
    "train_generator = train_datagen.flow_from_directory(train_data_dir, \n",
    "                              target_size =(img_width, img_height), \n",
    "                     batch_size = batch_size, class_mode ='binary') \n",
    "  \n",
    "validation_generator = test_datagen.flow_from_directory( \n",
    "                                    validation_data_dir, \n",
    "                   target_size =(img_width, img_height), \n",
    "          batch_size = batch_size, class_mode ='binary') "
   ]
  },
  {
   "cell_type": "code",
   "execution_count": 286,
   "metadata": {},
   "outputs": [
    {
     "name": "stdout",
     "output_type": "stream",
     "text": [
      "Epoch 1/50\n",
      "15/15 [==============================] - ETA: 14s - loss: 0.6577 - acc: 0.90 - ETA: 7s - loss: 1.2370 - acc: 0.8000 - ETA: 5s - loss: 1.3591 - acc: 0.566 - ETA: 4s - loss: 1.1928 - acc: 0.575 - ETA: 3s - loss: 1.1104 - acc: 0.540 - ETA: 2s - loss: 1.0945 - acc: 0.483 - ETA: 2s - loss: 1.0458 - acc: 0.485 - ETA: 2s - loss: 0.9896 - acc: 0.512 - ETA: 1s - loss: 0.9314 - acc: 0.555 - ETA: 1s - loss: 0.9412 - acc: 0.530 - ETA: 1s - loss: 0.9164 - acc: 0.536 - ETA: 0s - loss: 0.8960 - acc: 0.541 - ETA: 0s - loss: 0.8798 - acc: 0.538 - ETA: 0s - loss: 0.8625 - acc: 0.550 - 4s 271ms/step - loss: 0.8471 - acc: 0.5533 - val_loss: 0.6443 - val_acc: 0.6481\n",
      "Epoch 2/50\n",
      "15/15 [==============================] - ETA: 2s - loss: 0.5098 - acc: 0.800 - ETA: 2s - loss: 0.5448 - acc: 0.750 - ETA: 2s - loss: 0.6165 - acc: 0.666 - ETA: 1s - loss: 0.6330 - acc: 0.675 - ETA: 1s - loss: 0.6355 - acc: 0.660 - ETA: 1s - loss: 0.6443 - acc: 0.633 - ETA: 1s - loss: 0.6433 - acc: 0.628 - ETA: 1s - loss: 0.6547 - acc: 0.612 - ETA: 0s - loss: 0.6418 - acc: 0.633 - ETA: 0s - loss: 0.6469 - acc: 0.630 - ETA: 0s - loss: 0.6395 - acc: 0.636 - ETA: 0s - loss: 0.6320 - acc: 0.641 - ETA: 0s - loss: 0.6438 - acc: 0.623 - ETA: 0s - loss: 0.6382 - acc: 0.635 - 3s 177ms/step - loss: 0.6345 - acc: 0.6467 - val_loss: 0.5860 - val_acc: 0.6667\n",
      "Epoch 3/50\n",
      "15/15 [==============================] - ETA: 2s - loss: 0.7786 - acc: 0.500 - ETA: 1s - loss: 0.7188 - acc: 0.550 - ETA: 1s - loss: 0.6773 - acc: 0.633 - ETA: 1s - loss: 0.6441 - acc: 0.650 - ETA: 1s - loss: 0.6276 - acc: 0.660 - ETA: 1s - loss: 0.6064 - acc: 0.683 - ETA: 1s - loss: 0.5879 - acc: 0.700 - ETA: 1s - loss: 0.6093 - acc: 0.687 - ETA: 0s - loss: 0.6074 - acc: 0.688 - ETA: 0s - loss: 0.6142 - acc: 0.670 - ETA: 0s - loss: 0.6041 - acc: 0.690 - ETA: 0s - loss: 0.6146 - acc: 0.675 - ETA: 0s - loss: 0.6108 - acc: 0.692 - ETA: 0s - loss: 0.6110 - acc: 0.678 - 3s 172ms/step - loss: 0.6015 - acc: 0.6867 - val_loss: 0.5920 - val_acc: 0.6481\n",
      "Epoch 4/50\n",
      "15/15 [==============================] - ETA: 1s - loss: 0.6658 - acc: 0.600 - ETA: 1s - loss: 0.6477 - acc: 0.600 - ETA: 1s - loss: 0.5891 - acc: 0.700 - ETA: 1s - loss: 0.5592 - acc: 0.725 - ETA: 1s - loss: 0.5350 - acc: 0.740 - ETA: 1s - loss: 0.5713 - acc: 0.733 - ETA: 1s - loss: 0.5753 - acc: 0.714 - ETA: 1s - loss: 0.5647 - acc: 0.700 - ETA: 0s - loss: 0.5759 - acc: 0.688 - ETA: 0s - loss: 0.5716 - acc: 0.700 - ETA: 0s - loss: 0.5756 - acc: 0.690 - ETA: 0s - loss: 0.5782 - acc: 0.683 - ETA: 0s - loss: 0.5810 - acc: 0.676 - ETA: 0s - loss: 0.5743 - acc: 0.692 - 3s 184ms/step - loss: 0.5799 - acc: 0.6800 - val_loss: 0.5389 - val_acc: 0.8519\n",
      "Epoch 5/50\n",
      "15/15 [==============================] - ETA: 2s - loss: 0.5629 - acc: 0.700 - ETA: 1s - loss: 0.5090 - acc: 0.800 - ETA: 1s - loss: 0.4762 - acc: 0.800 - ETA: 1s - loss: 0.5100 - acc: 0.750 - ETA: 1s - loss: 0.5248 - acc: 0.700 - ETA: 1s - loss: 0.5083 - acc: 0.733 - ETA: 1s - loss: 0.4812 - acc: 0.742 - ETA: 1s - loss: 0.5195 - acc: 0.712 - ETA: 0s - loss: 0.5244 - acc: 0.711 - ETA: 0s - loss: 0.5151 - acc: 0.730 - ETA: 0s - loss: 0.5254 - acc: 0.718 - ETA: 0s - loss: 0.5185 - acc: 0.733 - ETA: 0s - loss: 0.5208 - acc: 0.730 - ETA: 0s - loss: 0.5107 - acc: 0.750 - 3s 181ms/step - loss: 0.5123 - acc: 0.7400 - val_loss: 0.4955 - val_acc: 0.8958\n",
      "Epoch 6/50\n",
      "15/15 [==============================] - ETA: 2s - loss: 0.4875 - acc: 0.900 - ETA: 1s - loss: 0.4260 - acc: 0.950 - ETA: 1s - loss: 0.4811 - acc: 0.866 - ETA: 1s - loss: 0.4329 - acc: 0.900 - ETA: 1s - loss: 0.4236 - acc: 0.880 - ETA: 1s - loss: 0.4357 - acc: 0.866 - ETA: 1s - loss: 0.4353 - acc: 0.871 - ETA: 1s - loss: 0.4210 - acc: 0.875 - ETA: 0s - loss: 0.4002 - acc: 0.877 - ETA: 0s - loss: 0.4148 - acc: 0.870 - ETA: 0s - loss: 0.4245 - acc: 0.863 - ETA: 0s - loss: 0.4206 - acc: 0.875 - ETA: 0s - loss: 0.4217 - acc: 0.869 - ETA: 0s - loss: 0.4165 - acc: 0.871 - 3s 176ms/step - loss: 0.4276 - acc: 0.8600 - val_loss: 0.4977 - val_acc: 0.7778\n",
      "Epoch 7/50\n",
      "15/15 [==============================] - ETA: 2s - loss: 0.5575 - acc: 0.600 - ETA: 1s - loss: 0.3825 - acc: 0.750 - ETA: 1s - loss: 0.4262 - acc: 0.766 - ETA: 1s - loss: 0.4066 - acc: 0.800 - ETA: 1s - loss: 0.3847 - acc: 0.820 - ETA: 1s - loss: 0.3685 - acc: 0.833 - ETA: 1s - loss: 0.3503 - acc: 0.857 - ETA: 1s - loss: 0.4204 - acc: 0.850 - ETA: 0s - loss: 0.4407 - acc: 0.833 - ETA: 0s - loss: 0.4231 - acc: 0.850 - ETA: 0s - loss: 0.4150 - acc: 0.845 - ETA: 0s - loss: 0.4069 - acc: 0.841 - ETA: 0s - loss: 0.3959 - acc: 0.838 - ETA: 0s - loss: 0.4062 - acc: 0.828 - 3s 181ms/step - loss: 0.4054 - acc: 0.8200 - val_loss: 0.3532 - val_acc: 0.9259\n",
      "Epoch 8/50\n",
      "15/15 [==============================] - ETA: 2s - loss: 0.1738 - acc: 1.000 - ETA: 2s - loss: 0.1403 - acc: 1.000 - ETA: 1s - loss: 0.2906 - acc: 0.933 - ETA: 1s - loss: 0.3384 - acc: 0.900 - ETA: 1s - loss: 0.3244 - acc: 0.920 - ETA: 1s - loss: 0.3247 - acc: 0.916 - ETA: 1s - loss: 0.3276 - acc: 0.914 - ETA: 1s - loss: 0.3062 - acc: 0.925 - ETA: 1s - loss: 0.2953 - acc: 0.922 - ETA: 0s - loss: 0.2870 - acc: 0.930 - ETA: 0s - loss: 0.2839 - acc: 0.936 - ETA: 0s - loss: 0.2974 - acc: 0.925 - ETA: 0s - loss: 0.2933 - acc: 0.923 - ETA: 0s - loss: 0.2877 - acc: 0.921 - 3s 192ms/step - loss: 0.2845 - acc: 0.9200 - val_loss: 0.4645 - val_acc: 0.8333\n",
      "Epoch 9/50\n",
      "15/15 [==============================] - ETA: 1s - loss: 0.2030 - acc: 0.900 - ETA: 1s - loss: 0.1618 - acc: 0.950 - ETA: 1s - loss: 0.1888 - acc: 0.900 - ETA: 1s - loss: 0.2403 - acc: 0.900 - ETA: 1s - loss: 0.2465 - acc: 0.900 - ETA: 1s - loss: 0.2232 - acc: 0.916 - ETA: 1s - loss: 0.1988 - acc: 0.928 - ETA: 1s - loss: 0.1796 - acc: 0.937 - ETA: 0s - loss: 0.1828 - acc: 0.933 - ETA: 0s - loss: 0.1823 - acc: 0.940 - ETA: 0s - loss: 0.1960 - acc: 0.936 - ETA: 0s - loss: 0.2495 - acc: 0.908 - ETA: 0s - loss: 0.2918 - acc: 0.884 - ETA: 0s - loss: 0.2882 - acc: 0.885 - 3s 183ms/step - loss: 0.2834 - acc: 0.8933 - val_loss: 0.3624 - val_acc: 0.8889\n",
      "Epoch 10/50\n",
      "15/15 [==============================] - ETA: 2s - loss: 0.3961 - acc: 0.800 - ETA: 2s - loss: 0.2801 - acc: 0.900 - ETA: 1s - loss: 0.2205 - acc: 0.933 - ETA: 1s - loss: 0.2061 - acc: 0.950 - ETA: 1s - loss: 0.1782 - acc: 0.960 - ETA: 1s - loss: 0.1756 - acc: 0.966 - ETA: 1s - loss: 0.1778 - acc: 0.957 - ETA: 1s - loss: 0.1899 - acc: 0.950 - ETA: 0s - loss: 0.1882 - acc: 0.955 - ETA: 0s - loss: 0.1881 - acc: 0.950 - ETA: 0s - loss: 0.1865 - acc: 0.945 - ETA: 0s - loss: 0.1903 - acc: 0.941 - ETA: 0s - loss: 0.1828 - acc: 0.946 - ETA: 0s - loss: 0.1749 - acc: 0.950 - 3s 180ms/step - loss: 0.1750 - acc: 0.9533 - val_loss: 0.3709 - val_acc: 0.8542\n",
      "Epoch 11/50\n",
      "15/15 [==============================] - ETA: 2s - loss: 0.3073 - acc: 0.800 - ETA: 1s - loss: 0.2674 - acc: 0.850 - ETA: 1s - loss: 0.2345 - acc: 0.900 - ETA: 1s - loss: 0.2184 - acc: 0.925 - ETA: 1s - loss: 0.2154 - acc: 0.920 - ETA: 1s - loss: 0.2010 - acc: 0.933 - ETA: 1s - loss: 0.1878 - acc: 0.942 - ETA: 1s - loss: 0.2276 - acc: 0.937 - ETA: 0s - loss: 0.2243 - acc: 0.933 - ETA: 0s - loss: 0.2274 - acc: 0.920 - ETA: 0s - loss: 0.2222 - acc: 0.927 - ETA: 0s - loss: 0.2163 - acc: 0.933 - ETA: 0s - loss: 0.2241 - acc: 0.923 - ETA: 0s - loss: 0.2123 - acc: 0.928 - 3s 176ms/step - loss: 0.2042 - acc: 0.9333 - val_loss: 0.3514 - val_acc: 0.8519\n",
      "Epoch 12/50\n",
      "15/15 [==============================] - ETA: 2s - loss: 0.1369 - acc: 1.000 - ETA: 1s - loss: 0.2057 - acc: 0.850 - ETA: 1s - loss: 0.1975 - acc: 0.866 - ETA: 1s - loss: 0.1886 - acc: 0.875 - ETA: 1s - loss: 0.1641 - acc: 0.900 - ETA: 1s - loss: 0.1487 - acc: 0.916 - ETA: 1s - loss: 0.1371 - acc: 0.928 - ETA: 1s - loss: 0.1232 - acc: 0.937 - ETA: 1s - loss: 0.1199 - acc: 0.944 - ETA: 0s - loss: 0.1171 - acc: 0.950 - ETA: 0s - loss: 0.1093 - acc: 0.954 - ETA: 0s - loss: 0.1320 - acc: 0.941 - ETA: 0s - loss: 0.1278 - acc: 0.946 - ETA: 0s - loss: 0.1227 - acc: 0.950 - 3s 187ms/step - loss: 0.1177 - acc: 0.9533 - val_loss: 0.8176 - val_acc: 0.7963\n",
      "Epoch 13/50\n"
     ]
    },
    {
     "name": "stdout",
     "output_type": "stream",
     "text": [
      "15/15 [==============================] - ETA: 2s - loss: 0.9859 - acc: 0.600 - ETA: 1s - loss: 0.7457 - acc: 0.700 - ETA: 1s - loss: 0.5306 - acc: 0.800 - ETA: 1s - loss: 0.4290 - acc: 0.850 - ETA: 1s - loss: 0.3569 - acc: 0.880 - ETA: 1s - loss: 0.3070 - acc: 0.900 - ETA: 1s - loss: 0.2693 - acc: 0.914 - ETA: 1s - loss: 0.2441 - acc: 0.925 - ETA: 1s - loss: 0.2273 - acc: 0.933 - ETA: 0s - loss: 0.2294 - acc: 0.920 - ETA: 0s - loss: 0.2171 - acc: 0.927 - ETA: 0s - loss: 0.2058 - acc: 0.933 - ETA: 0s - loss: 0.1998 - acc: 0.938 - ETA: 0s - loss: 0.2141 - acc: 0.935 - 3s 184ms/step - loss: 0.2073 - acc: 0.9400 - val_loss: 0.3747 - val_acc: 0.8148\n",
      "Epoch 14/50\n",
      "15/15 [==============================] - ETA: 2s - loss: 0.1964 - acc: 0.900 - ETA: 1s - loss: 0.1319 - acc: 0.950 - ETA: 1s - loss: 0.1592 - acc: 0.933 - ETA: 1s - loss: 0.1371 - acc: 0.950 - ETA: 1s - loss: 0.1271 - acc: 0.960 - ETA: 1s - loss: 0.1307 - acc: 0.950 - ETA: 1s - loss: 0.1397 - acc: 0.942 - ETA: 1s - loss: 0.1391 - acc: 0.950 - ETA: 0s - loss: 0.1390 - acc: 0.944 - ETA: 0s - loss: 0.1355 - acc: 0.950 - ETA: 0s - loss: 0.1299 - acc: 0.954 - ETA: 0s - loss: 0.1310 - acc: 0.950 - ETA: 0s - loss: 0.1248 - acc: 0.953 - ETA: 0s - loss: 0.1229 - acc: 0.957 - 2s 166ms/step - loss: 0.1208 - acc: 0.9600 - val_loss: 0.2545 - val_acc: 0.8889\n",
      "Epoch 15/50\n",
      "15/15 [==============================] - ETA: 2s - loss: 0.0270 - acc: 1.000 - ETA: 1s - loss: 0.0322 - acc: 1.000 - ETA: 1s - loss: 0.0316 - acc: 1.000 - ETA: 1s - loss: 0.0859 - acc: 0.975 - ETA: 1s - loss: 0.1569 - acc: 0.960 - ETA: 1s - loss: 0.1370 - acc: 0.966 - ETA: 1s - loss: 0.1431 - acc: 0.957 - ETA: 1s - loss: 0.1406 - acc: 0.950 - ETA: 0s - loss: 0.1327 - acc: 0.955 - ETA: 0s - loss: 0.1287 - acc: 0.960 - ETA: 0s - loss: 0.1285 - acc: 0.963 - ETA: 0s - loss: 0.1280 - acc: 0.966 - ETA: 0s - loss: 0.1200 - acc: 0.969 - ETA: 0s - loss: 0.1116 - acc: 0.971 - 3s 176ms/step - loss: 0.1078 - acc: 0.9733 - val_loss: 0.2501 - val_acc: 0.8750\n",
      "Epoch 16/50\n",
      "15/15 [==============================] - ETA: 2s - loss: 0.2259 - acc: 0.800 - ETA: 1s - loss: 0.1269 - acc: 0.900 - ETA: 1s - loss: 0.1002 - acc: 0.933 - ETA: 1s - loss: 0.0944 - acc: 0.950 - ETA: 1s - loss: 0.0794 - acc: 0.960 - ETA: 1s - loss: 0.0689 - acc: 0.966 - ETA: 1s - loss: 0.0666 - acc: 0.971 - ETA: 1s - loss: 0.0854 - acc: 0.950 - ETA: 0s - loss: 0.0902 - acc: 0.944 - ETA: 0s - loss: 0.0824 - acc: 0.950 - ETA: 0s - loss: 0.0781 - acc: 0.954 - ETA: 0s - loss: 0.0825 - acc: 0.950 - ETA: 0s - loss: 0.0776 - acc: 0.953 - ETA: 0s - loss: 0.0741 - acc: 0.957 - 3s 195ms/step - loss: 0.0862 - acc: 0.9533 - val_loss: 0.3815 - val_acc: 0.8519\n",
      "Epoch 17/50\n",
      "15/15 [==============================] - ETA: 2s - loss: 0.0369 - acc: 1.000 - ETA: 2s - loss: 0.0773 - acc: 1.000 - ETA: 1s - loss: 0.0940 - acc: 0.966 - ETA: 1s - loss: 0.1142 - acc: 0.950 - ETA: 1s - loss: 0.1115 - acc: 0.960 - ETA: 1s - loss: 0.1047 - acc: 0.966 - ETA: 1s - loss: 0.1065 - acc: 0.957 - ETA: 1s - loss: 0.1081 - acc: 0.950 - ETA: 1s - loss: 0.1000 - acc: 0.955 - ETA: 0s - loss: 0.0918 - acc: 0.960 - ETA: 0s - loss: 0.0862 - acc: 0.963 - ETA: 0s - loss: 0.0975 - acc: 0.950 - ETA: 0s - loss: 0.0917 - acc: 0.953 - ETA: 0s - loss: 0.0926 - acc: 0.957 - 3s 214ms/step - loss: 0.0968 - acc: 0.9600 - val_loss: 0.3061 - val_acc: 0.8519\n",
      "Epoch 18/50\n",
      "15/15 [==============================] - ETA: 2s - loss: 0.0112 - acc: 1.000 - ETA: 2s - loss: 0.0643 - acc: 1.000 - ETA: 1s - loss: 0.0456 - acc: 1.000 - ETA: 1s - loss: 0.0437 - acc: 1.000 - ETA: 1s - loss: 0.0458 - acc: 1.000 - ETA: 1s - loss: 0.0472 - acc: 1.000 - ETA: 1s - loss: 0.0430 - acc: 1.000 - ETA: 1s - loss: 0.0396 - acc: 1.000 - ETA: 1s - loss: 0.0409 - acc: 1.000 - ETA: 0s - loss: 0.0604 - acc: 0.990 - ETA: 0s - loss: 0.0647 - acc: 0.981 - ETA: 0s - loss: 0.0673 - acc: 0.983 - ETA: 0s - loss: 0.0685 - acc: 0.984 - ETA: 0s - loss: 0.0712 - acc: 0.985 - 3s 197ms/step - loss: 0.0841 - acc: 0.9733 - val_loss: 0.4342 - val_acc: 0.8148\n",
      "Epoch 19/50\n",
      "15/15 [==============================] - ETA: 2s - loss: 0.0245 - acc: 1.000 - ETA: 2s - loss: 0.0195 - acc: 1.000 - ETA: 2s - loss: 0.0292 - acc: 1.000 - ETA: 2s - loss: 0.0314 - acc: 1.000 - ETA: 1s - loss: 0.0259 - acc: 1.000 - ETA: 1s - loss: 0.0256 - acc: 1.000 - ETA: 1s - loss: 0.0294 - acc: 1.000 - ETA: 1s - loss: 0.0371 - acc: 1.000 - ETA: 1s - loss: 0.0447 - acc: 1.000 - ETA: 0s - loss: 0.0449 - acc: 1.000 - ETA: 0s - loss: 0.0466 - acc: 1.000 - ETA: 0s - loss: 0.0462 - acc: 1.000 - ETA: 0s - loss: 0.0427 - acc: 1.000 - ETA: 0s - loss: 0.0406 - acc: 1.000 - 3s 198ms/step - loss: 0.0401 - acc: 1.0000 - val_loss: 0.3331 - val_acc: 0.8889\n",
      "Epoch 20/50\n",
      "15/15 [==============================] - ETA: 1s - loss: 0.0900 - acc: 0.900 - ETA: 1s - loss: 0.0505 - acc: 0.950 - ETA: 1s - loss: 0.0342 - acc: 0.966 - ETA: 1s - loss: 0.0275 - acc: 0.975 - ETA: 1s - loss: 0.0244 - acc: 0.980 - ETA: 1s - loss: 0.0259 - acc: 0.983 - ETA: 1s - loss: 0.0228 - acc: 0.985 - ETA: 1s - loss: 0.0204 - acc: 0.987 - ETA: 0s - loss: 0.0200 - acc: 0.988 - ETA: 0s - loss: 0.0183 - acc: 0.990 - ETA: 0s - loss: 0.0255 - acc: 0.981 - ETA: 0s - loss: 0.0280 - acc: 0.983 - ETA: 0s - loss: 0.0273 - acc: 0.984 - ETA: 0s - loss: 0.0268 - acc: 0.985 - 3s 189ms/step - loss: 0.0325 - acc: 0.9800 - val_loss: 0.5630 - val_acc: 0.8750\n",
      "Epoch 21/50\n",
      "15/15 [==============================] - ETA: 2s - loss: 0.0941 - acc: 1.000 - ETA: 2s - loss: 0.1317 - acc: 0.950 - ETA: 2s - loss: 0.2033 - acc: 0.933 - ETA: 1s - loss: 0.1554 - acc: 0.950 - ETA: 1s - loss: 0.1295 - acc: 0.960 - ETA: 1s - loss: 0.1094 - acc: 0.966 - ETA: 1s - loss: 0.0962 - acc: 0.971 - ETA: 1s - loss: 0.0849 - acc: 0.975 - ETA: 1s - loss: 0.0779 - acc: 0.977 - ETA: 0s - loss: 0.0799 - acc: 0.970 - ETA: 0s - loss: 0.0831 - acc: 0.972 - ETA: 0s - loss: 0.0778 - acc: 0.975 - ETA: 0s - loss: 0.0852 - acc: 0.969 - ETA: 0s - loss: 0.0835 - acc: 0.971 - 3s 209ms/step - loss: 0.0793 - acc: 0.9733 - val_loss: 0.5148 - val_acc: 0.7963\n",
      "Epoch 22/50\n",
      "15/15 [==============================] - ETA: 2s - loss: 0.0957 - acc: 1.000 - ETA: 2s - loss: 0.0834 - acc: 1.000 - ETA: 1s - loss: 0.0764 - acc: 1.000 - ETA: 1s - loss: 0.0594 - acc: 1.000 - ETA: 1s - loss: 0.0484 - acc: 1.000 - ETA: 1s - loss: 0.0425 - acc: 1.000 - ETA: 1s - loss: 0.0365 - acc: 1.000 - ETA: 1s - loss: 0.0329 - acc: 1.000 - ETA: 0s - loss: 0.0735 - acc: 0.966 - ETA: 0s - loss: 0.0866 - acc: 0.960 - ETA: 0s - loss: 0.0820 - acc: 0.963 - ETA: 0s - loss: 0.0785 - acc: 0.966 - ETA: 0s - loss: 0.0782 - acc: 0.969 - ETA: 0s - loss: 0.0743 - acc: 0.971 - 3s 176ms/step - loss: 0.0702 - acc: 0.9733 - val_loss: 0.2525 - val_acc: 0.9074\n",
      "Epoch 23/50\n",
      "15/15 [==============================] - ETA: 2s - loss: 0.0456 - acc: 1.000 - ETA: 2s - loss: 0.0241 - acc: 1.000 - ETA: 1s - loss: 0.0181 - acc: 1.000 - ETA: 1s - loss: 0.0162 - acc: 1.000 - ETA: 1s - loss: 0.0734 - acc: 0.980 - ETA: 1s - loss: 0.0635 - acc: 0.983 - ETA: 1s - loss: 0.0558 - acc: 0.985 - ETA: 1s - loss: 0.0604 - acc: 0.987 - ETA: 1s - loss: 0.0543 - acc: 0.988 - ETA: 0s - loss: 0.0497 - acc: 0.990 - ETA: 0s - loss: 0.0452 - acc: 0.990 - ETA: 0s - loss: 0.0415 - acc: 0.991 - ETA: 0s - loss: 0.0386 - acc: 0.992 - ETA: 0s - loss: 0.0369 - acc: 0.992 - 3s 188ms/step - loss: 0.0403 - acc: 0.9933 - val_loss: 0.4003 - val_acc: 0.8519\n",
      "Epoch 24/50\n",
      "15/15 [==============================] - ETA: 1s - loss: 0.0049 - acc: 1.000 - ETA: 1s - loss: 0.0224 - acc: 1.000 - ETA: 1s - loss: 0.0169 - acc: 1.000 - ETA: 1s - loss: 0.0234 - acc: 1.000 - ETA: 1s - loss: 0.0210 - acc: 1.000 - ETA: 1s - loss: 0.0184 - acc: 1.000 - ETA: 1s - loss: 0.0442 - acc: 0.985 - ETA: 1s - loss: 0.0390 - acc: 0.987 - ETA: 0s - loss: 0.0690 - acc: 0.977 - ETA: 0s - loss: 0.0638 - acc: 0.980 - ETA: 0s - loss: 0.0619 - acc: 0.981 - ETA: 0s - loss: 0.0601 - acc: 0.983 - ETA: 0s - loss: 0.0558 - acc: 0.984 - ETA: 0s - loss: 0.0526 - acc: 0.985 - 3s 181ms/step - loss: 0.0496 - acc: 0.9867 - val_loss: 0.2584 - val_acc: 0.9074\n",
      "Epoch 25/50\n"
     ]
    },
    {
     "name": "stdout",
     "output_type": "stream",
     "text": [
      "15/15 [==============================] - ETA: 2s - loss: 0.0029 - acc: 1.000 - ETA: 1s - loss: 0.0109 - acc: 1.000 - ETA: 1s - loss: 0.0104 - acc: 1.000 - ETA: 1s - loss: 0.0102 - acc: 1.000 - ETA: 1s - loss: 0.0089 - acc: 1.000 - ETA: 1s - loss: 0.0119 - acc: 1.000 - ETA: 1s - loss: 0.0105 - acc: 1.000 - ETA: 1s - loss: 0.0107 - acc: 1.000 - ETA: 0s - loss: 0.0142 - acc: 1.000 - ETA: 0s - loss: 0.0129 - acc: 1.000 - ETA: 0s - loss: 0.0180 - acc: 1.000 - ETA: 0s - loss: 0.0422 - acc: 0.983 - ETA: 0s - loss: 0.0397 - acc: 0.984 - ETA: 0s - loss: 0.0370 - acc: 0.985 - 3s 167ms/step - loss: 0.0351 - acc: 0.9867 - val_loss: 0.6533 - val_acc: 0.8333\n",
      "Epoch 26/50\n",
      "15/15 [==============================] - ETA: 2s - loss: 0.0029 - acc: 1.000 - ETA: 2s - loss: 0.0056 - acc: 1.000 - ETA: 1s - loss: 0.0037 - acc: 1.000 - ETA: 1s - loss: 0.0085 - acc: 1.000 - ETA: 1s - loss: 0.0209 - acc: 1.000 - ETA: 1s - loss: 0.0181 - acc: 1.000 - ETA: 1s - loss: 0.0157 - acc: 1.000 - ETA: 1s - loss: 0.0176 - acc: 1.000 - ETA: 1s - loss: 0.0157 - acc: 1.000 - ETA: 0s - loss: 0.0154 - acc: 1.000 - ETA: 0s - loss: 0.0168 - acc: 1.000 - ETA: 0s - loss: 0.0155 - acc: 1.000 - ETA: 0s - loss: 0.0147 - acc: 1.000 - ETA: 0s - loss: 0.0139 - acc: 1.000 - 3s 194ms/step - loss: 0.0135 - acc: 1.0000 - val_loss: 0.4208 - val_acc: 0.8889\n",
      "Epoch 27/50\n",
      "15/15 [==============================] - ETA: 2s - loss: 0.0121 - acc: 1.000 - ETA: 1s - loss: 0.0089 - acc: 1.000 - ETA: 1s - loss: 0.0231 - acc: 1.000 - ETA: 1s - loss: 0.0235 - acc: 1.000 - ETA: 1s - loss: 0.0189 - acc: 1.000 - ETA: 1s - loss: 0.0189 - acc: 1.000 - ETA: 1s - loss: 0.0225 - acc: 1.000 - ETA: 1s - loss: 0.0202 - acc: 1.000 - ETA: 0s - loss: 0.0180 - acc: 1.000 - ETA: 0s - loss: 0.0164 - acc: 1.000 - ETA: 0s - loss: 0.0202 - acc: 1.000 - ETA: 0s - loss: 0.0196 - acc: 1.000 - ETA: 0s - loss: 0.0193 - acc: 1.000 - ETA: 0s - loss: 0.0186 - acc: 1.000 - 3s 178ms/step - loss: 0.0174 - acc: 1.0000 - val_loss: 0.3218 - val_acc: 0.9074\n",
      "Epoch 28/50\n",
      "15/15 [==============================] - ETA: 2s - loss: 6.2211e-04 - acc: 1.000 - ETA: 1s - loss: 0.0080 - acc: 1.0000    - ETA: 1s - loss: 0.0055 - acc: 1.000 - ETA: 1s - loss: 0.0070 - acc: 1.000 - ETA: 1s - loss: 0.0056 - acc: 1.000 - ETA: 1s - loss: 0.0048 - acc: 1.000 - ETA: 1s - loss: 0.0548 - acc: 0.985 - ETA: 0s - loss: 0.0484 - acc: 0.987 - ETA: 0s - loss: 0.0461 - acc: 0.988 - ETA: 0s - loss: 0.0420 - acc: 0.990 - ETA: 0s - loss: 0.0429 - acc: 0.990 - ETA: 0s - loss: 0.0428 - acc: 0.991 - ETA: 0s - loss: 0.0422 - acc: 0.992 - ETA: 0s - loss: 0.0403 - acc: 0.992 - 3s 168ms/step - loss: 0.0448 - acc: 0.9867 - val_loss: 0.5777 - val_acc: 0.8704\n",
      "Epoch 29/50\n",
      "15/15 [==============================] - ETA: 2s - loss: 0.0084 - acc: 1.000 - ETA: 2s - loss: 0.0145 - acc: 1.000 - ETA: 1s - loss: 0.0114 - acc: 1.000 - ETA: 1s - loss: 0.0099 - acc: 1.000 - ETA: 1s - loss: 0.0106 - acc: 1.000 - ETA: 1s - loss: 0.0101 - acc: 1.000 - ETA: 1s - loss: 0.0225 - acc: 1.000 - ETA: 1s - loss: 0.0218 - acc: 1.000 - ETA: 1s - loss: 0.0200 - acc: 1.000 - ETA: 0s - loss: 0.0183 - acc: 1.000 - ETA: 0s - loss: 0.0176 - acc: 1.000 - ETA: 0s - loss: 0.0181 - acc: 1.000 - ETA: 0s - loss: 0.0170 - acc: 1.000 - ETA: 0s - loss: 0.0160 - acc: 1.000 - 3s 185ms/step - loss: 0.0217 - acc: 0.9933 - val_loss: 0.6385 - val_acc: 0.8889\n",
      "Epoch 30/50\n",
      "15/15 [==============================] - ETA: 2s - loss: 0.1246 - acc: 0.900 - ETA: 2s - loss: 0.0686 - acc: 0.950 - ETA: 1s - loss: 0.0490 - acc: 0.966 - ETA: 1s - loss: 0.0374 - acc: 0.975 - ETA: 1s - loss: 0.0305 - acc: 0.980 - ETA: 1s - loss: 0.0254 - acc: 0.983 - ETA: 1s - loss: 0.0219 - acc: 0.985 - ETA: 1s - loss: 0.0197 - acc: 0.987 - ETA: 1s - loss: 0.0175 - acc: 0.988 - ETA: 0s - loss: 0.0158 - acc: 0.990 - ETA: 0s - loss: 0.0148 - acc: 0.990 - ETA: 0s - loss: 0.0137 - acc: 0.991 - ETA: 0s - loss: 0.0129 - acc: 0.992 - ETA: 0s - loss: 0.0120 - acc: 0.992 - 3s 181ms/step - loss: 0.0113 - acc: 0.9933 - val_loss: 0.5078 - val_acc: 0.8542\n",
      "Epoch 31/50\n",
      "15/15 [==============================] - ETA: 1s - loss: 3.3427e-04 - acc: 1.000 - ETA: 1s - loss: 7.4423e-04 - acc: 1.000 - ETA: 1s - loss: 5.9921e-04 - acc: 1.000 - ETA: 1s - loss: 0.0221 - acc: 0.9750    - ETA: 1s - loss: 0.0182 - acc: 0.980 - ETA: 1s - loss: 0.0156 - acc: 0.983 - ETA: 1s - loss: 0.0201 - acc: 0.985 - ETA: 1s - loss: 0.0180 - acc: 0.987 - ETA: 0s - loss: 0.0163 - acc: 0.988 - ETA: 0s - loss: 0.0148 - acc: 0.990 - ETA: 0s - loss: 0.0136 - acc: 0.990 - ETA: 0s - loss: 0.0126 - acc: 0.991 - ETA: 0s - loss: 0.0122 - acc: 0.992 - ETA: 0s - loss: 0.0147 - acc: 0.992 - 3s 174ms/step - loss: 0.0159 - acc: 0.9933 - val_loss: 0.4022 - val_acc: 0.9074\n",
      "Epoch 32/50\n",
      "15/15 [==============================] - ETA: 1s - loss: 0.0277 - acc: 1.000 - ETA: 1s - loss: 0.0154 - acc: 1.000 - ETA: 1s - loss: 0.0175 - acc: 1.000 - ETA: 1s - loss: 0.0299 - acc: 1.000 - ETA: 1s - loss: 0.0242 - acc: 1.000 - ETA: 1s - loss: 0.0202 - acc: 1.000 - ETA: 1s - loss: 0.0198 - acc: 1.000 - ETA: 1s - loss: 0.0174 - acc: 1.000 - ETA: 0s - loss: 0.0155 - acc: 1.000 - ETA: 0s - loss: 0.0140 - acc: 1.000 - ETA: 0s - loss: 0.0128 - acc: 1.000 - ETA: 0s - loss: 0.0532 - acc: 0.991 - ETA: 0s - loss: 0.0492 - acc: 0.992 - ETA: 0s - loss: 0.0476 - acc: 0.992 - 3s 182ms/step - loss: 0.0483 - acc: 0.9933 - val_loss: 0.3774 - val_acc: 0.8704\n",
      "Epoch 33/50\n",
      "15/15 [==============================] - ETA: 2s - loss: 0.0137 - acc: 1.000 - ETA: 1s - loss: 0.0195 - acc: 1.000 - ETA: 2s - loss: 0.0185 - acc: 1.000 - ETA: 1s - loss: 0.0204 - acc: 1.000 - ETA: 1s - loss: 0.0176 - acc: 1.000 - ETA: 1s - loss: 0.0162 - acc: 1.000 - ETA: 1s - loss: 0.0144 - acc: 1.000 - ETA: 1s - loss: 0.0128 - acc: 1.000 - ETA: 1s - loss: 0.0124 - acc: 1.000 - ETA: 0s - loss: 0.0112 - acc: 1.000 - ETA: 0s - loss: 0.0151 - acc: 1.000 - ETA: 0s - loss: 0.0139 - acc: 1.000 - ETA: 0s - loss: 0.0132 - acc: 1.000 - ETA: 0s - loss: 0.0123 - acc: 1.000 - 3s 197ms/step - loss: 0.0117 - acc: 1.0000 - val_loss: 0.3681 - val_acc: 0.8889\n",
      "Epoch 34/50\n",
      "15/15 [==============================] - ETA: 1s - loss: 0.0721 - acc: 1.000 - ETA: 1s - loss: 0.0717 - acc: 1.000 - ETA: 1s - loss: 0.0518 - acc: 1.000 - ETA: 1s - loss: 0.0391 - acc: 1.000 - ETA: 1s - loss: 0.0318 - acc: 1.000 - ETA: 1s - loss: 0.0275 - acc: 1.000 - ETA: 1s - loss: 0.0236 - acc: 1.000 - ETA: 1s - loss: 0.0219 - acc: 1.000 - ETA: 1s - loss: 0.0227 - acc: 1.000 - ETA: 0s - loss: 0.0205 - acc: 1.000 - ETA: 0s - loss: 0.0186 - acc: 1.000 - ETA: 0s - loss: 0.0273 - acc: 0.991 - ETA: 0s - loss: 0.0256 - acc: 0.992 - ETA: 0s - loss: 0.0245 - acc: 0.992 - 3s 189ms/step - loss: 0.0237 - acc: 0.9933 - val_loss: 0.4069 - val_acc: 0.8704\n",
      "Epoch 35/50\n",
      "15/15 [==============================] - ETA: 1s - loss: 0.0095 - acc: 1.000 - ETA: 2s - loss: 0.0182 - acc: 1.000 - ETA: 1s - loss: 0.0190 - acc: 1.000 - ETA: 1s - loss: 0.0156 - acc: 1.000 - ETA: 1s - loss: 0.0127 - acc: 1.000 - ETA: 1s - loss: 0.0390 - acc: 0.966 - ETA: 1s - loss: 0.0342 - acc: 0.971 - ETA: 1s - loss: 0.0300 - acc: 0.975 - ETA: 1s - loss: 0.0269 - acc: 0.977 - ETA: 0s - loss: 0.0256 - acc: 0.980 - ETA: 0s - loss: 0.0233 - acc: 0.981 - ETA: 0s - loss: 0.0217 - acc: 0.983 - ETA: 0s - loss: 0.0201 - acc: 0.984 - ETA: 0s - loss: 0.0187 - acc: 0.985 - 3s 202ms/step - loss: 0.0203 - acc: 0.9867 - val_loss: 0.3941 - val_acc: 0.8750\n",
      "Epoch 36/50\n",
      "15/15 [==============================] - ETA: 2s - loss: 0.0233 - acc: 1.000 - ETA: 2s - loss: 0.0120 - acc: 1.000 - ETA: 1s - loss: 0.0088 - acc: 1.000 - ETA: 1s - loss: 0.0107 - acc: 1.000 - ETA: 1s - loss: 0.0087 - acc: 1.000 - ETA: 1s - loss: 0.0075 - acc: 1.000 - ETA: 1s - loss: 0.0068 - acc: 1.000 - ETA: 1s - loss: 0.0059 - acc: 1.000 - ETA: 1s - loss: 0.0055 - acc: 1.000 - ETA: 0s - loss: 0.0077 - acc: 1.000 - ETA: 0s - loss: 0.0070 - acc: 1.000 - ETA: 0s - loss: 0.0068 - acc: 1.000 - ETA: 0s - loss: 0.0064 - acc: 1.000 - ETA: 0s - loss: 0.0059 - acc: 1.000 - 3s 182ms/step - loss: 0.0055 - acc: 1.0000 - val_loss: 0.3771 - val_acc: 0.9259\n",
      "Epoch 37/50\n"
     ]
    },
    {
     "name": "stdout",
     "output_type": "stream",
     "text": [
      "15/15 [==============================] - ETA: 1s - loss: 0.0034 - acc: 1.000 - ETA: 1s - loss: 0.0382 - acc: 1.000 - ETA: 1s - loss: 0.0261 - acc: 1.000 - ETA: 1s - loss: 0.0197 - acc: 1.000 - ETA: 1s - loss: 0.0162 - acc: 1.000 - ETA: 1s - loss: 0.0189 - acc: 1.000 - ETA: 1s - loss: 0.0168 - acc: 1.000 - ETA: 1s - loss: 0.0151 - acc: 1.000 - ETA: 1s - loss: 0.0140 - acc: 1.000 - ETA: 0s - loss: 0.0126 - acc: 1.000 - ETA: 0s - loss: 0.0122 - acc: 1.000 - ETA: 0s - loss: 0.0112 - acc: 1.000 - ETA: 0s - loss: 0.0103 - acc: 1.000 - ETA: 0s - loss: 0.0096 - acc: 1.000 - 3s 184ms/step - loss: 0.0091 - acc: 1.0000 - val_loss: 0.3360 - val_acc: 0.8889\n",
      "Epoch 38/50\n",
      "15/15 [==============================] - ETA: 2s - loss: 0.0459 - acc: 1.000 - ETA: 2s - loss: 0.0239 - acc: 1.000 - ETA: 1s - loss: 0.0162 - acc: 1.000 - ETA: 1s - loss: 0.0217 - acc: 1.000 - ETA: 1s - loss: 0.0521 - acc: 0.980 - ETA: 1s - loss: 0.0445 - acc: 0.983 - ETA: 1s - loss: 0.0390 - acc: 0.985 - ETA: 1s - loss: 0.0343 - acc: 0.987 - ETA: 0s - loss: 0.0305 - acc: 0.988 - ETA: 0s - loss: 0.0275 - acc: 0.990 - ETA: 0s - loss: 0.0251 - acc: 0.990 - ETA: 0s - loss: 0.0231 - acc: 0.991 - ETA: 0s - loss: 0.0246 - acc: 0.992 - ETA: 0s - loss: 0.0228 - acc: 0.992 - 3s 188ms/step - loss: 0.0213 - acc: 0.9933 - val_loss: 0.7574 - val_acc: 0.8519\n",
      "Epoch 39/50\n",
      "15/15 [==============================] - ETA: 2s - loss: 9.2382e-04 - acc: 1.000 - ETA: 2s - loss: 0.0015 - acc: 1.0000    - ETA: 1s - loss: 0.0012 - acc: 1.000 - ETA: 1s - loss: 0.0012 - acc: 1.000 - ETA: 1s - loss: 9.8535e-04 - acc: 1.000 - ETA: 1s - loss: 0.0137 - acc: 0.9833    - ETA: 1s - loss: 0.0121 - acc: 0.985 - ETA: 1s - loss: 0.0122 - acc: 0.987 - ETA: 0s - loss: 0.0109 - acc: 0.988 - ETA: 0s - loss: 0.0100 - acc: 0.990 - ETA: 0s - loss: 0.0092 - acc: 0.990 - ETA: 0s - loss: 0.0088 - acc: 0.991 - ETA: 0s - loss: 0.0082 - acc: 0.992 - ETA: 0s - loss: 0.0076 - acc: 0.992 - 3s 177ms/step - loss: 0.0072 - acc: 0.9933 - val_loss: 0.3285 - val_acc: 0.9259\n",
      "Epoch 40/50\n",
      "15/15 [==============================] - ETA: 2s - loss: 6.4361e-04 - acc: 1.000 - ETA: 1s - loss: 0.0013 - acc: 1.0000    - ETA: 1s - loss: 0.0039 - acc: 1.000 - ETA: 1s - loss: 0.0047 - acc: 1.000 - ETA: 1s - loss: 0.0038 - acc: 1.000 - ETA: 1s - loss: 0.0032 - acc: 1.000 - ETA: 1s - loss: 0.0260 - acc: 0.985 - ETA: 1s - loss: 0.0228 - acc: 0.987 - ETA: 0s - loss: 0.0208 - acc: 0.988 - ETA: 0s - loss: 0.0190 - acc: 0.990 - ETA: 0s - loss: 0.0176 - acc: 0.990 - ETA: 0s - loss: 0.0249 - acc: 0.991 - ETA: 0s - loss: 0.0230 - acc: 0.992 - ETA: 0s - loss: 0.0215 - acc: 0.992 - 3s 183ms/step - loss: 0.0202 - acc: 0.9933 - val_loss: 0.9316 - val_acc: 0.8125\n",
      "Epoch 41/50\n",
      "15/15 [==============================] - ETA: 2s - loss: 0.0452 - acc: 1.000 - ETA: 2s - loss: 0.0228 - acc: 1.000 - ETA: 1s - loss: 0.0229 - acc: 1.000 - ETA: 1s - loss: 0.0172 - acc: 1.000 - ETA: 1s - loss: 0.0138 - acc: 1.000 - ETA: 1s - loss: 0.0116 - acc: 1.000 - ETA: 1s - loss: 0.0099 - acc: 1.000 - ETA: 1s - loss: 0.0093 - acc: 1.000 - ETA: 1s - loss: 0.0085 - acc: 1.000 - ETA: 0s - loss: 0.0078 - acc: 1.000 - ETA: 0s - loss: 0.0072 - acc: 1.000 - ETA: 0s - loss: 0.0066 - acc: 1.000 - ETA: 0s - loss: 0.0061 - acc: 1.000 - ETA: 0s - loss: 0.0058 - acc: 1.000 - 3s 206ms/step - loss: 0.0054 - acc: 1.0000 - val_loss: 0.6597 - val_acc: 0.8519\n",
      "Epoch 42/50\n",
      "15/15 [==============================] - ETA: 2s - loss: 1.6068e-04 - acc: 1.000 - ETA: 1s - loss: 1.2184e-04 - acc: 1.000 - ETA: 1s - loss: 1.2181e-04 - acc: 1.000 - ETA: 1s - loss: 3.4563e-04 - acc: 1.000 - ETA: 1s - loss: 2.9768e-04 - acc: 1.000 - ETA: 1s - loss: 0.0020 - acc: 1.0000    - ETA: 1s - loss: 0.0018 - acc: 1.000 - ETA: 1s - loss: 0.0016 - acc: 1.000 - ETA: 1s - loss: 0.0014 - acc: 1.000 - ETA: 0s - loss: 0.0061 - acc: 1.000 - ETA: 0s - loss: 0.0662 - acc: 0.990 - ETA: 0s - loss: 0.0611 - acc: 0.991 - ETA: 0s - loss: 0.0577 - acc: 0.992 - ETA: 0s - loss: 0.0538 - acc: 0.992 - 3s 196ms/step - loss: 0.0502 - acc: 0.9933 - val_loss: 0.5880 - val_acc: 0.8704\n",
      "Epoch 43/50\n",
      "15/15 [==============================] - ETA: 2s - loss: 5.0978e-05 - acc: 1.000 - ETA: 2s - loss: 0.0033 - acc: 1.0000    - ETA: 1s - loss: 0.0056 - acc: 1.000 - ETA: 1s - loss: 0.0052 - acc: 1.000 - ETA: 1s - loss: 0.0053 - acc: 1.000 - ETA: 1s - loss: 0.0047 - acc: 1.000 - ETA: 1s - loss: 0.0041 - acc: 1.000 - ETA: 1s - loss: 0.0036 - acc: 1.000 - ETA: 1s - loss: 0.0034 - acc: 1.000 - ETA: 0s - loss: 0.0031 - acc: 1.000 - ETA: 0s - loss: 0.0028 - acc: 1.000 - ETA: 0s - loss: 0.0027 - acc: 1.000 - ETA: 0s - loss: 0.0025 - acc: 1.000 - ETA: 0s - loss: 0.0023 - acc: 1.000 - 3s 189ms/step - loss: 0.0022 - acc: 1.0000 - val_loss: 0.4490 - val_acc: 0.8333\n",
      "Epoch 44/50\n",
      "15/15 [==============================] - ETA: 1s - loss: 0.0209 - acc: 1.000 - ETA: 2s - loss: 0.0106 - acc: 1.000 - ETA: 1s - loss: 0.0071 - acc: 1.000 - ETA: 1s - loss: 0.0054 - acc: 1.000 - ETA: 1s - loss: 0.0044 - acc: 1.000 - ETA: 1s - loss: 0.0066 - acc: 1.000 - ETA: 1s - loss: 0.0133 - acc: 1.000 - ETA: 1s - loss: 0.0117 - acc: 1.000 - ETA: 1s - loss: 0.0107 - acc: 1.000 - ETA: 0s - loss: 0.0097 - acc: 1.000 - ETA: 0s - loss: 0.0088 - acc: 1.000 - ETA: 0s - loss: 0.0105 - acc: 1.000 - ETA: 0s - loss: 0.0100 - acc: 1.000 - ETA: 0s - loss: 0.0120 - acc: 1.000 - 3s 194ms/step - loss: 0.0112 - acc: 1.0000 - val_loss: 0.8631 - val_acc: 0.8519\n",
      "Epoch 45/50\n",
      "15/15 [==============================] - ETA: 2s - loss: 5.1272e-04 - acc: 1.000 - ETA: 2s - loss: 4.6301e-04 - acc: 1.000 - ETA: 2s - loss: 4.5319e-04 - acc: 1.000 - ETA: 2s - loss: 0.0056 - acc: 1.0000    - ETA: 1s - loss: 0.0054 - acc: 1.000 - ETA: 1s - loss: 0.0046 - acc: 1.000 - ETA: 1s - loss: 0.0045 - acc: 1.000 - ETA: 1s - loss: 0.0044 - acc: 1.000 - ETA: 1s - loss: 0.0040 - acc: 1.000 - ETA: 0s - loss: 0.0037 - acc: 1.000 - ETA: 0s - loss: 0.0034 - acc: 1.000 - ETA: 0s - loss: 0.0031 - acc: 1.000 - ETA: 0s - loss: 0.0029 - acc: 1.000 - ETA: 0s - loss: 0.0035 - acc: 1.000 - 3s 206ms/step - loss: 0.0034 - acc: 1.0000 - val_loss: 0.5124 - val_acc: 0.8958\n",
      "Epoch 46/50\n",
      "15/15 [==============================] - ETA: 2s - loss: 0.0033 - acc: 1.000 - ETA: 2s - loss: 0.0017 - acc: 1.000 - ETA: 1s - loss: 0.0012 - acc: 1.000 - ETA: 1s - loss: 0.0018 - acc: 1.000 - ETA: 1s - loss: 0.0029 - acc: 1.000 - ETA: 1s - loss: 0.0024 - acc: 1.000 - ETA: 1s - loss: 0.0021 - acc: 1.000 - ETA: 1s - loss: 0.0019 - acc: 1.000 - ETA: 0s - loss: 0.0018 - acc: 1.000 - ETA: 0s - loss: 0.0017 - acc: 1.000 - ETA: 0s - loss: 0.0016 - acc: 1.000 - ETA: 0s - loss: 0.0014 - acc: 1.000 - ETA: 0s - loss: 0.0013 - acc: 1.000 - ETA: 0s - loss: 0.0013 - acc: 1.000 - 3s 181ms/step - loss: 0.0013 - acc: 1.0000 - val_loss: 0.7291 - val_acc: 0.8704\n",
      "Epoch 47/50\n",
      "15/15 [==============================] - ETA: 2s - loss: 1.7377e-05 - acc: 1.000 - ETA: 2s - loss: 0.0019 - acc: 1.0000    - ETA: 1s - loss: 0.0013 - acc: 1.000 - ETA: 1s - loss: 0.0011 - acc: 1.000 - ETA: 1s - loss: 0.0011 - acc: 1.000 - ETA: 1s - loss: 0.0078 - acc: 1.000 - ETA: 1s - loss: 0.0067 - acc: 1.000 - ETA: 1s - loss: 0.0059 - acc: 1.000 - ETA: 1s - loss: 0.0053 - acc: 1.000 - ETA: 0s - loss: 0.0081 - acc: 1.000 - ETA: 0s - loss: 0.0074 - acc: 1.000 - ETA: 0s - loss: 0.0068 - acc: 1.000 - ETA: 0s - loss: 0.0063 - acc: 1.000 - ETA: 0s - loss: 0.0068 - acc: 1.000 - 3s 184ms/step - loss: 0.0064 - acc: 1.0000 - val_loss: 0.5757 - val_acc: 0.9444\n",
      "Epoch 48/50\n",
      "15/15 [==============================] - ETA: 2s - loss: 2.9501e-04 - acc: 1.000 - ETA: 2s - loss: 0.0020 - acc: 1.0000    - ETA: 1s - loss: 0.0083 - acc: 1.000 - ETA: 1s - loss: 0.0081 - acc: 1.000 - ETA: 1s - loss: 0.0065 - acc: 1.000 - ETA: 1s - loss: 0.0063 - acc: 1.000 - ETA: 1s - loss: 0.0055 - acc: 1.000 - ETA: 1s - loss: 0.0072 - acc: 1.000 - ETA: 1s - loss: 0.0064 - acc: 1.000 - ETA: 0s - loss: 0.0058 - acc: 1.000 - ETA: 0s - loss: 0.0053 - acc: 1.000 - ETA: 0s - loss: 0.0048 - acc: 1.000 - ETA: 0s - loss: 0.0045 - acc: 1.000 - ETA: 0s - loss: 0.0042 - acc: 1.000 - 3s 193ms/step - loss: 0.0039 - acc: 1.0000 - val_loss: 0.5965 - val_acc: 0.8519\n",
      "Epoch 49/50\n"
     ]
    },
    {
     "name": "stdout",
     "output_type": "stream",
     "text": [
      "15/15 [==============================] - ETA: 2s - loss: 1.1153e-07 - acc: 1.000 - ETA: 2s - loss: 0.0157 - acc: 1.0000    - ETA: 1s - loss: 0.0104 - acc: 1.000 - ETA: 1s - loss: 0.0079 - acc: 1.000 - ETA: 1s - loss: 0.0078 - acc: 1.000 - ETA: 1s - loss: 0.0065 - acc: 1.000 - ETA: 1s - loss: 0.0056 - acc: 1.000 - ETA: 1s - loss: 0.0049 - acc: 1.000 - ETA: 1s - loss: 0.0044 - acc: 1.000 - ETA: 0s - loss: 0.0040 - acc: 1.000 - ETA: 0s - loss: 0.0036 - acc: 1.000 - ETA: 0s - loss: 0.0033 - acc: 1.000 - ETA: 0s - loss: 0.0031 - acc: 1.000 - ETA: 0s - loss: 0.0029 - acc: 1.000 - 3s 193ms/step - loss: 0.0029 - acc: 1.0000 - val_loss: 0.6488 - val_acc: 0.8704\n",
      "Epoch 50/50\n",
      "15/15 [==============================] - ETA: 1s - loss: 1.0043e-05 - acc: 1.000 - ETA: 1s - loss: 2.5236e-05 - acc: 1.000 - ETA: 1s - loss: 1.1210e-04 - acc: 1.000 - ETA: 1s - loss: 1.4700e-04 - acc: 1.000 - ETA: 1s - loss: 9.9591e-04 - acc: 1.000 - ETA: 1s - loss: 0.0013 - acc: 1.0000    - ETA: 1s - loss: 0.0012 - acc: 1.000 - ETA: 1s - loss: 0.0011 - acc: 1.000 - ETA: 0s - loss: 0.0014 - acc: 1.000 - ETA: 0s - loss: 0.0013 - acc: 1.000 - ETA: 0s - loss: 0.0011 - acc: 1.000 - ETA: 0s - loss: 0.0025 - acc: 1.000 - ETA: 0s - loss: 0.0026 - acc: 1.000 - ETA: 0s - loss: 0.0024 - acc: 1.000 - 3s 172ms/step - loss: 0.0023 - acc: 1.0000 - val_loss: 0.9028 - val_acc: 0.8750\n"
     ]
    },
    {
     "data": {
      "text/plain": [
       "<keras.callbacks.History at 0x2ab54e16550>"
      ]
     },
     "execution_count": 286,
     "metadata": {},
     "output_type": "execute_result"
    }
   ],
   "source": [
    "model.fit_generator(train_generator, \n",
    "    steps_per_epoch = nb_train_samples // batch_size, \n",
    "    epochs = epochs, validation_data = validation_generator, \n",
    "    validation_steps = nb_validation_samples // batch_size)"
   ]
  },
  {
   "cell_type": "code",
   "execution_count": 287,
   "metadata": {},
   "outputs": [],
   "source": [
    "model.save_weights('model_saved50.h5') "
   ]
  },
  {
   "cell_type": "code",
   "execution_count": 288,
   "metadata": {},
   "outputs": [],
   "source": [
    "class_dictionary = {}\n",
    "class_dictionary[0] = 'empty'\n",
    "class_dictionary[1] = 'occupied' "
   ]
  },
  {
   "cell_type": "code",
   "execution_count": 289,
   "metadata": {},
   "outputs": [],
   "source": [
    "test_pic=cv.imread('./images/cropped/1.jpg')"
   ]
  },
  {
   "cell_type": "code",
   "execution_count": 290,
   "metadata": {},
   "outputs": [],
   "source": [
    "img = np.expand_dims(test_pic, axis=0) "
   ]
  },
  {
   "cell_type": "code",
   "execution_count": 291,
   "metadata": {},
   "outputs": [
    {
     "data": {
      "text/plain": [
       "array([[0.]], dtype=float32)"
      ]
     },
     "execution_count": 291,
     "metadata": {},
     "output_type": "execute_result"
    }
   ],
   "source": [
    "class_predicted=model.predict(img)\n",
    "class_predicted"
   ]
  },
  {
   "cell_type": "code",
   "execution_count": 292,
   "metadata": {},
   "outputs": [
    {
     "name": "stdout",
     "output_type": "stream",
     "text": [
      "empty\n"
     ]
    }
   ],
   "source": [
    "inID = int(class_predicted[0])\n",
    "label = class_dictionary[inID] \n",
    "print(label)"
   ]
  },
  {
   "cell_type": "code",
   "execution_count": 293,
   "metadata": {},
   "outputs": [
    {
     "name": "stdout",
     "output_type": "stream",
     "text": [
      "./images/cropped\\1.jpg  -  empty\n",
      "./images/cropped\\10.jpg  -  empty\n",
      "./images/cropped\\100.jpg  -  occupied\n",
      "./images/cropped\\101.jpg  -  occupied\n",
      "./images/cropped\\102.jpg  -  occupied\n",
      "./images/cropped\\103.jpg  -  occupied\n",
      "./images/cropped\\104.jpg  -  occupied\n",
      "./images/cropped\\105.jpg  -  empty\n",
      "./images/cropped\\106.jpg  -  empty\n",
      "./images/cropped\\107.jpg  -  empty\n",
      "./images/cropped\\108.jpg  -  empty\n",
      "./images/cropped\\109.jpg  -  empty\n",
      "./images/cropped\\11.jpg  -  empty\n",
      "./images/cropped\\110.jpg  -  occupied\n",
      "./images/cropped\\111.jpg  -  empty\n",
      "./images/cropped\\112.jpg  -  occupied\n",
      "./images/cropped\\113.jpg  -  occupied\n",
      "./images/cropped\\114.jpg  -  occupied\n",
      "./images/cropped\\115.jpg  -  occupied\n",
      "./images/cropped\\116.jpg  -  occupied\n",
      "./images/cropped\\117.jpg  -  occupied\n",
      "./images/cropped\\118.jpg  -  occupied\n",
      "./images/cropped\\119.jpg  -  occupied\n",
      "./images/cropped\\12.jpg  -  empty\n",
      "./images/cropped\\120.jpg  -  occupied\n",
      "./images/cropped\\121.jpg  -  empty\n",
      "./images/cropped\\122.jpg  -  empty\n",
      "./images/cropped\\123.jpg  -  empty\n",
      "./images/cropped\\124.jpg  -  empty\n",
      "./images/cropped\\125.jpg  -  empty\n",
      "./images/cropped\\126.jpg  -  empty\n",
      "./images/cropped\\127.jpg  -  empty\n",
      "./images/cropped\\128.jpg  -  empty\n",
      "./images/cropped\\129.jpg  -  occupied\n",
      "./images/cropped\\13.jpg  -  occupied\n",
      "./images/cropped\\130.jpg  -  occupied\n",
      "./images/cropped\\131.jpg  -  empty\n",
      "./images/cropped\\132.jpg  -  occupied\n",
      "./images/cropped\\133.jpg  -  occupied\n",
      "./images/cropped\\134.jpg  -  occupied\n",
      "./images/cropped\\135.jpg  -  occupied\n",
      "./images/cropped\\136.jpg  -  occupied\n",
      "./images/cropped\\137.jpg  -  empty\n",
      "./images/cropped\\138.jpg  -  empty\n",
      "./images/cropped\\139.jpg  -  empty\n",
      "./images/cropped\\14.jpg  -  occupied\n",
      "./images/cropped\\140.jpg  -  empty\n",
      "./images/cropped\\141.jpg  -  empty\n",
      "./images/cropped\\142.jpg  -  empty\n",
      "./images/cropped\\143.jpg  -  empty\n",
      "./images/cropped\\144.jpg  -  empty\n",
      "./images/cropped\\145.jpg  -  occupied\n",
      "./images/cropped\\146.jpg  -  occupied\n",
      "./images/cropped\\147.jpg  -  occupied\n",
      "./images/cropped\\148.jpg  -  occupied\n",
      "./images/cropped\\149.jpg  -  occupied\n",
      "./images/cropped\\15.jpg  -  occupied\n",
      "./images/cropped\\150.jpg  -  occupied\n",
      "./images/cropped\\151.jpg  -  occupied\n",
      "./images/cropped\\152.jpg  -  occupied\n",
      "./images/cropped\\153.jpg  -  empty\n",
      "./images/cropped\\154.jpg  -  empty\n",
      "./images/cropped\\155.jpg  -  empty\n",
      "./images/cropped\\156.jpg  -  empty\n",
      "./images/cropped\\157.jpg  -  empty\n",
      "./images/cropped\\158.jpg  -  empty\n",
      "./images/cropped\\159.jpg  -  empty\n",
      "./images/cropped\\16.jpg  -  empty\n",
      "./images/cropped\\160.jpg  -  empty\n",
      "./images/cropped\\161.jpg  -  occupied\n",
      "./images/cropped\\162.jpg  -  empty\n",
      "./images/cropped\\163.jpg  -  empty\n",
      "./images/cropped\\164.jpg  -  empty\n",
      "./images/cropped\\165.jpg  -  occupied\n",
      "./images/cropped\\166.jpg  -  occupied\n",
      "./images/cropped\\167.jpg  -  occupied\n",
      "./images/cropped\\168.jpg  -  occupied\n",
      "./images/cropped\\169.jpg  -  occupied\n",
      "./images/cropped\\17.jpg  -  empty\n",
      "./images/cropped\\170.jpg  -  occupied\n",
      "./images/cropped\\171.jpg  -  occupied\n",
      "./images/cropped\\172.jpg  -  occupied\n",
      "./images/cropped\\173.jpg  -  empty\n",
      "./images/cropped\\174.jpg  -  empty\n",
      "./images/cropped\\175.jpg  -  empty\n",
      "./images/cropped\\176.jpg  -  empty\n",
      "./images/cropped\\177.jpg  -  occupied\n",
      "./images/cropped\\178.jpg  -  occupied\n",
      "./images/cropped\\179.jpg  -  empty\n",
      "./images/cropped\\18.jpg  -  empty\n",
      "./images/cropped\\180.jpg  -  occupied\n",
      "./images/cropped\\181.jpg  -  occupied\n",
      "./images/cropped\\182.jpg  -  occupied\n",
      "./images/cropped\\183.jpg  -  occupied\n",
      "./images/cropped\\184.jpg  -  occupied\n",
      "./images/cropped\\185.jpg  -  empty\n",
      "./images/cropped\\186.jpg  -  empty\n",
      "./images/cropped\\187.jpg  -  empty\n",
      "./images/cropped\\188.jpg  -  empty\n",
      "./images/cropped\\189.jpg  -  empty\n",
      "./images/cropped\\19.jpg  -  empty\n",
      "./images/cropped\\190.jpg  -  occupied\n",
      "./images/cropped\\191.jpg  -  empty\n",
      "./images/cropped\\192.jpg  -  occupied\n",
      "./images/cropped\\193.jpg  -  occupied\n",
      "./images/cropped\\194.jpg  -  occupied\n",
      "./images/cropped\\195.jpg  -  occupied\n",
      "./images/cropped\\196.jpg  -  occupied\n",
      "./images/cropped\\197.jpg  -  occupied\n",
      "./images/cropped\\198.jpg  -  occupied\n",
      "./images/cropped\\199.jpg  -  occupied\n",
      "./images/cropped\\2.jpg  -  empty\n",
      "./images/cropped\\20.jpg  -  empty\n",
      "./images/cropped\\200.jpg  -  occupied\n",
      "./images/cropped\\201.jpg  -  empty\n",
      "./images/cropped\\202.jpg  -  empty\n",
      "./images/cropped\\203.jpg  -  empty\n",
      "./images/cropped\\204.jpg  -  empty\n",
      "./images/cropped\\205.jpg  -  empty\n",
      "./images/cropped\\206.jpg  -  empty\n",
      "./images/cropped\\207.jpg  -  empty\n",
      "./images/cropped\\208.jpg  -  empty\n",
      "./images/cropped\\209.jpg  -  occupied\n",
      "./images/cropped\\21.jpg  -  occupied\n",
      "./images/cropped\\210.jpg  -  occupied\n",
      "./images/cropped\\211.jpg  -  empty\n",
      "./images/cropped\\212.jpg  -  occupied\n",
      "./images/cropped\\213.jpg  -  occupied\n",
      "./images/cropped\\214.jpg  -  occupied\n",
      "./images/cropped\\215.jpg  -  occupied\n",
      "./images/cropped\\216.jpg  -  occupied\n",
      "./images/cropped\\217.jpg  -  empty\n",
      "./images/cropped\\218.jpg  -  empty\n",
      "./images/cropped\\219.jpg  -  empty\n",
      "./images/cropped\\22.jpg  -  occupied\n",
      "./images/cropped\\220.jpg  -  empty\n",
      "./images/cropped\\221.jpg  -  empty\n",
      "./images/cropped\\222.jpg  -  empty\n",
      "./images/cropped\\223.jpg  -  empty\n",
      "./images/cropped\\224.jpg  -  empty\n",
      "./images/cropped\\23.jpg  -  occupied\n",
      "./images/cropped\\24.jpg  -  occupied\n",
      "./images/cropped\\25.jpg  -  empty\n",
      "./images/cropped\\26.jpg  -  empty\n",
      "./images/cropped\\27.jpg  -  empty\n",
      "./images/cropped\\28.jpg  -  empty\n",
      "./images/cropped\\29.jpg  -  occupied\n",
      "./images/cropped\\3.jpg  -  empty\n",
      "./images/cropped\\30.jpg  -  occupied\n",
      "./images/cropped\\31.jpg  -  occupied\n",
      "./images/cropped\\32.jpg  -  occupied\n",
      "./images/cropped\\33.jpg  -  occupied\n",
      "./images/cropped\\34.jpg  -  occupied\n",
      "./images/cropped\\35.jpg  -  empty\n",
      "./images/cropped\\36.jpg  -  occupied\n",
      "./images/cropped\\37.jpg  -  occupied\n",
      "./images/cropped\\38.jpg  -  occupied\n",
      "./images/cropped\\39.jpg  -  occupied\n",
      "./images/cropped\\4.jpg  -  occupied\n",
      "./images/cropped\\40.jpg  -  occupied\n",
      "./images/cropped\\41.jpg  -  empty\n",
      "./images/cropped\\42.jpg  -  empty\n",
      "./images/cropped\\43.jpg  -  empty\n",
      "./images/cropped\\44.jpg  -  empty\n",
      "./images/cropped\\45.jpg  -  empty\n",
      "./images/cropped\\46.jpg  -  occupied\n",
      "./images/cropped\\47.jpg  -  occupied\n",
      "./images/cropped\\48.jpg  -  occupied\n",
      "./images/cropped\\49.jpg  -  occupied\n",
      "./images/cropped\\5.jpg  -  occupied\n",
      "./images/cropped\\50.jpg  -  occupied\n",
      "./images/cropped\\51.jpg  -  empty\n",
      "./images/cropped\\52.jpg  -  occupied\n",
      "./images/cropped\\53.jpg  -  occupied\n",
      "./images/cropped\\54.jpg  -  occupied\n",
      "./images/cropped\\55.jpg  -  occupied\n",
      "./images/cropped\\56.jpg  -  occupied\n",
      "./images/cropped\\57.jpg  -  empty\n",
      "./images/cropped\\58.jpg  -  empty\n",
      "./images/cropped\\59.jpg  -  empty\n",
      "./images/cropped\\6.jpg  -  occupied\n",
      "./images/cropped\\60.jpg  -  empty\n",
      "./images/cropped\\61.jpg  -  empty\n",
      "./images/cropped\\62.jpg  -  occupied\n",
      "./images/cropped\\63.jpg  -  occupied\n",
      "./images/cropped\\64.jpg  -  occupied\n",
      "./images/cropped\\65.jpg  -  occupied\n",
      "./images/cropped\\66.jpg  -  occupied\n",
      "./images/cropped\\67.jpg  -  occupied\n",
      "./images/cropped\\68.jpg  -  occupied\n",
      "./images/cropped\\69.jpg  -  occupied\n",
      "./images/cropped\\7.jpg  -  occupied\n",
      "./images/cropped\\70.jpg  -  occupied\n",
      "./images/cropped\\71.jpg  -  occupied\n",
      "./images/cropped\\72.jpg  -  occupied\n",
      "./images/cropped\\73.jpg  -  empty\n",
      "./images/cropped\\74.jpg  -  empty\n",
      "./images/cropped\\75.jpg  -  empty\n",
      "./images/cropped\\76.jpg  -  empty\n",
      "./images/cropped\\77.jpg  -  empty\n",
      "./images/cropped\\78.jpg  -  empty\n",
      "./images/cropped\\79.jpg  -  empty\n",
      "./images/cropped\\8.jpg  -  occupied\n",
      "./images/cropped\\80.jpg  -  empty\n",
      "./images/cropped\\81.jpg  -  occupied\n",
      "./images/cropped\\82.jpg  -  empty\n",
      "./images/cropped\\83.jpg  -  empty\n",
      "./images/cropped\\84.jpg  -  empty\n",
      "./images/cropped\\85.jpg  -  occupied\n",
      "./images/cropped\\86.jpg  -  occupied\n",
      "./images/cropped\\87.jpg  -  occupied\n",
      "./images/cropped\\88.jpg  -  occupied\n",
      "./images/cropped\\89.jpg  -  occupied\n",
      "./images/cropped\\9.jpg  -  empty\n",
      "./images/cropped\\90.jpg  -  occupied\n",
      "./images/cropped\\91.jpg  -  occupied\n",
      "./images/cropped\\92.jpg  -  occupied\n",
      "./images/cropped\\93.jpg  -  empty\n",
      "./images/cropped\\94.jpg  -  empty\n",
      "./images/cropped\\95.jpg  -  empty\n",
      "./images/cropped\\96.jpg  -  empty\n",
      "./images/cropped\\97.jpg  -  occupied\n",
      "./images/cropped\\98.jpg  -  occupied\n",
      "./images/cropped\\99.jpg  -  empty\n"
     ]
    }
   ],
   "source": [
    "emp=0\n",
    "occ=0\n",
    "all_files = glob.glob('./images/cropped/*.jpg')  \n",
    "for n in all_files:\n",
    "    test_pic = cv.imread(n)\n",
    "    img = np.expand_dims(test_pic, axis=0) \n",
    "    class_predicted = model.predict(img)\n",
    "    if int(class_predicted[0])==1:\n",
    "        occ=occ+1\n",
    "    else:\n",
    "        emp=emp+1\n",
    "    inID = int(class_predicted[0])\n",
    "    label = class_dictionary[inID] \n",
    "    print(n,' - ',label) \n",
    " \n"
   ]
  },
  {
   "cell_type": "code",
   "execution_count": 294,
   "metadata": {},
   "outputs": [
    {
     "name": "stdout",
     "output_type": "stream",
     "text": [
      "118\n",
      "106\n"
     ]
    }
   ],
   "source": [
    "print(occ)\n",
    "print(emp)"
   ]
  },
  {
   "cell_type": "code",
   "execution_count": null,
   "metadata": {},
   "outputs": [],
   "source": []
  },
  {
   "cell_type": "code",
   "execution_count": null,
   "metadata": {},
   "outputs": [],
   "source": []
  }
 ],
 "metadata": {
  "kernelspec": {
   "display_name": "Python 3",
   "language": "python",
   "name": "python3"
  },
  "language_info": {
   "codemirror_mode": {
    "name": "ipython",
    "version": 3
   },
   "file_extension": ".py",
   "mimetype": "text/x-python",
   "name": "python",
   "nbconvert_exporter": "python",
   "pygments_lexer": "ipython3",
   "version": "3.7.3"
  }
 },
 "nbformat": 4,
 "nbformat_minor": 2
}
