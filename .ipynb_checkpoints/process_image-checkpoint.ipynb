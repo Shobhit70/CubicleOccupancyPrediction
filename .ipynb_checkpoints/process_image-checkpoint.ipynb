{
 "cells": [
  {
   "cell_type": "code",
   "execution_count": 1,
   "metadata": {},
   "outputs": [
    {
     "name": "stderr",
     "output_type": "stream",
     "text": [
      "Using TensorFlow backend.\n"
     ]
    }
   ],
   "source": [
    "from keras.preprocessing.image import ImageDataGenerator \n",
    "from keras.models import Sequential \n",
    "from keras.layers import Conv2D, MaxPooling2D \n",
    "from keras.layers import Activation, Dropout, Flatten, Dense \n",
    "from keras import backend as K\n",
    "import cv2 as cv"
   ]
  },
  {
   "cell_type": "code",
   "execution_count": 2,
   "metadata": {},
   "outputs": [],
   "source": [
    "import cv2 as cv\n",
    "import numpy as np\n",
    "import os\n",
    "import glob\n",
    "import pickle"
   ]
  },
  {
   "cell_type": "code",
   "execution_count": 3,
   "metadata": {},
   "outputs": [],
   "source": [
    "class_dictionary = {}\n",
    "class_dictionary[0] = 'empty'\n",
    "class_dictionary[1] = 'occupied'\n",
    "\n",
    "from PIL import Image as PImage\n",
    "input_image = PImage.open('./images/sample/test1.jpg')"
   ]
  },
  {
   "cell_type": "code",
   "execution_count": 4,
   "metadata": {},
   "outputs": [],
   "source": [
    "with open('Occupancy.pickle', 'rb') as handle:\n",
    "    cub_list = pickle.load(handle)"
   ]
  },
  {
   "cell_type": "code",
   "execution_count": 5,
   "metadata": {},
   "outputs": [
    {
     "name": "stderr",
     "output_type": "stream",
     "text": [
      "WARNING: Logging before flag parsing goes to stderr.\n",
      "W0303 17:40:45.522821  2008 deprecation_wrapper.py:119] From C:\\Users\\hni7kor\\AppData\\Local\\Continuum\\newanaconda\\lib\\site-packages\\keras\\backend\\tensorflow_backend.py:517: The name tf.placeholder is deprecated. Please use tf.compat.v1.placeholder instead.\n",
      "\n",
      "W0303 17:40:45.559725  2008 deprecation_wrapper.py:119] From C:\\Users\\hni7kor\\AppData\\Local\\Continuum\\newanaconda\\lib\\site-packages\\keras\\backend\\tensorflow_backend.py:4138: The name tf.random_uniform is deprecated. Please use tf.random.uniform instead.\n",
      "\n",
      "W0303 17:40:45.581665  2008 deprecation_wrapper.py:119] From C:\\Users\\hni7kor\\AppData\\Local\\Continuum\\newanaconda\\lib\\site-packages\\keras\\backend\\tensorflow_backend.py:3976: The name tf.nn.max_pool is deprecated. Please use tf.nn.max_pool2d instead.\n",
      "\n",
      "W0303 17:40:45.642536  2008 deprecation_wrapper.py:119] From C:\\Users\\hni7kor\\AppData\\Local\\Continuum\\newanaconda\\lib\\site-packages\\keras\\backend\\tensorflow_backend.py:131: The name tf.get_default_graph is deprecated. Please use tf.compat.v1.get_default_graph instead.\n",
      "\n",
      "W0303 17:40:45.643534  2008 deprecation_wrapper.py:119] From C:\\Users\\hni7kor\\AppData\\Local\\Continuum\\newanaconda\\lib\\site-packages\\keras\\backend\\tensorflow_backend.py:133: The name tf.placeholder_with_default is deprecated. Please use tf.compat.v1.placeholder_with_default instead.\n",
      "\n",
      "W0303 17:40:45.651479  2008 deprecation.py:506] From C:\\Users\\hni7kor\\AppData\\Local\\Continuum\\newanaconda\\lib\\site-packages\\keras\\backend\\tensorflow_backend.py:3445: calling dropout (from tensorflow.python.ops.nn_ops) with keep_prob is deprecated and will be removed in a future version.\n",
      "Instructions for updating:\n",
      "Please use `rate` instead of `keep_prob`. Rate should be set to `rate = 1 - keep_prob`.\n",
      "W0303 17:40:45.692371  2008 deprecation_wrapper.py:119] From C:\\Users\\hni7kor\\AppData\\Local\\Continuum\\newanaconda\\lib\\site-packages\\keras\\backend\\tensorflow_backend.py:174: The name tf.get_default_session is deprecated. Please use tf.compat.v1.get_default_session instead.\n",
      "\n",
      "W0303 17:40:45.827011  2008 deprecation_wrapper.py:119] From C:\\Users\\hni7kor\\AppData\\Local\\Continuum\\newanaconda\\lib\\site-packages\\keras\\optimizers.py:790: The name tf.train.Optimizer is deprecated. Please use tf.compat.v1.train.Optimizer instead.\n",
      "\n",
      "W0303 17:40:45.835987  2008 deprecation.py:323] From C:\\Users\\hni7kor\\AppData\\Local\\Continuum\\newanaconda\\lib\\site-packages\\tensorflow\\python\\ops\\nn_impl.py:180: add_dispatch_support.<locals>.wrapper (from tensorflow.python.ops.array_ops) is deprecated and will be removed in a future version.\n",
      "Instructions for updating:\n",
      "Use tf.where in 2.0, which has the same broadcast rule as np.where\n"
     ]
    }
   ],
   "source": [
    "import pickle\n",
    "loaded_model=pickle.load(open('model_saved_50.sav','rb'))"
   ]
  },
  {
   "cell_type": "code",
   "execution_count": 6,
   "metadata": {},
   "outputs": [
    {
     "data": {
      "text/plain": [
       "[(0, 0, 119.125, 92.5),\n",
       " (0, 92.5, 119.125, 185.0),\n",
       " (0, 185.0, 119.125, 277.5),\n",
       " (0, 277.5, 119.125, 370.0),\n",
       " (0, 370.0, 119.125, 462.5),\n",
       " (0, 462.5, 119.125, 555.0),\n",
       " (0, 555.0, 119.125, 647.5),\n",
       " (0, 647.5, 119.125, 740.0),\n",
       " (119.125, 0, 238.25, 92.5),\n",
       " (119.125, 92.5, 238.25, 185.0),\n",
       " (119.125, 185.0, 238.25, 277.5),\n",
       " (119.125, 277.5, 238.25, 370.0),\n",
       " (119.125, 370.0, 238.25, 462.5),\n",
       " (119.125, 462.5, 238.25, 555.0),\n",
       " (119.125, 555.0, 238.25, 647.5),\n",
       " (119.125, 647.5, 238.25, 740.0),\n",
       " (238.25, 0, 357.375, 92.5),\n",
       " (238.25, 92.5, 357.375, 185.0),\n",
       " (238.25, 185.0, 357.375, 277.5),\n",
       " (238.25, 277.5, 357.375, 370.0),\n",
       " (238.25, 370.0, 357.375, 462.5),\n",
       " (238.25, 462.5, 357.375, 555.0),\n",
       " (238.25, 555.0, 357.375, 647.5),\n",
       " (238.25, 647.5, 357.375, 740.0),\n",
       " (357.375, 0, 476.5, 92.5),\n",
       " (357.375, 92.5, 476.5, 185.0),\n",
       " (357.375, 185.0, 476.5, 277.5),\n",
       " (357.375, 277.5, 476.5, 370.0),\n",
       " (357.375, 370.0, 476.5, 462.5),\n",
       " (357.375, 462.5, 476.5, 555.0),\n",
       " (357.375, 555.0, 476.5, 647.5),\n",
       " (357.375, 647.5, 476.5, 740.0),\n",
       " (476.5, 0, 595.625, 92.5),\n",
       " (476.5, 92.5, 595.625, 185.0),\n",
       " (476.5, 185.0, 595.625, 277.5),\n",
       " (476.5, 277.5, 595.625, 370.0),\n",
       " (476.5, 370.0, 595.625, 462.5),\n",
       " (476.5, 462.5, 595.625, 555.0),\n",
       " (476.5, 555.0, 595.625, 647.5),\n",
       " (476.5, 647.5, 595.625, 740.0),\n",
       " (595.625, 0, 714.75, 92.5),\n",
       " (595.625, 92.5, 714.75, 185.0),\n",
       " (595.625, 185.0, 714.75, 277.5),\n",
       " (595.625, 277.5, 714.75, 370.0),\n",
       " (595.625, 370.0, 714.75, 462.5),\n",
       " (595.625, 462.5, 714.75, 555.0),\n",
       " (595.625, 555.0, 714.75, 647.5),\n",
       " (595.625, 647.5, 714.75, 740.0),\n",
       " (714.75, 0, 833.875, 92.5),\n",
       " (714.75, 92.5, 833.875, 185.0),\n",
       " (714.75, 185.0, 833.875, 277.5),\n",
       " (714.75, 277.5, 833.875, 370.0),\n",
       " (714.75, 370.0, 833.875, 462.5),\n",
       " (714.75, 462.5, 833.875, 555.0),\n",
       " (714.75, 555.0, 833.875, 647.5),\n",
       " (714.75, 647.5, 833.875, 740.0),\n",
       " (833.875, 0, 953.0, 92.5),\n",
       " (833.875, 92.5, 953.0, 185.0),\n",
       " (833.875, 185.0, 953.0, 277.5),\n",
       " (833.875, 277.5, 953.0, 370.0),\n",
       " (833.875, 370.0, 953.0, 462.5),\n",
       " (833.875, 462.5, 953.0, 555.0),\n",
       " (833.875, 555.0, 953.0, 647.5),\n",
       " (833.875, 647.5, 953.0, 740.0)]"
      ]
     },
     "execution_count": 6,
     "metadata": {},
     "output_type": "execute_result"
    }
   ],
   "source": [
    "cub_list"
   ]
  },
  {
   "cell_type": "code",
   "execution_count": 16,
   "metadata": {},
   "outputs": [
    {
     "name": "stdout",
     "output_type": "stream",
     "text": [
      "(0, 0, 119.125, 92.5)  -  occupied\n",
      "(0, 92.5, 119.125, 185.0)  -  empty\n",
      "(0, 185.0, 119.125, 277.5)  -  occupied\n",
      "(0, 277.5, 119.125, 370.0)  -  empty\n",
      "(0, 370.0, 119.125, 462.5)  -  occupied\n",
      "(0, 462.5, 119.125, 555.0)  -  empty\n",
      "(0, 555.0, 119.125, 647.5)  -  occupied\n",
      "(0, 647.5, 119.125, 740.0)  -  empty\n",
      "(119.125, 0, 238.25, 92.5)  -  occupied\n",
      "(119.125, 92.5, 238.25, 185.0)  -  occupied\n",
      "(119.125, 185.0, 238.25, 277.5)  -  occupied\n",
      "(119.125, 277.5, 238.25, 370.0)  -  empty\n",
      "(119.125, 370.0, 238.25, 462.5)  -  occupied\n",
      "(119.125, 462.5, 238.25, 555.0)  -  occupied\n",
      "(119.125, 555.0, 238.25, 647.5)  -  occupied\n",
      "(119.125, 647.5, 238.25, 740.0)  -  empty\n",
      "(238.25, 0, 357.375, 92.5)  -  empty\n",
      "(238.25, 92.5, 357.375, 185.0)  -  empty\n",
      "(238.25, 185.0, 357.375, 277.5)  -  occupied\n",
      "(238.25, 277.5, 357.375, 370.0)  -  occupied\n",
      "(238.25, 370.0, 357.375, 462.5)  -  empty\n",
      "(238.25, 462.5, 357.375, 555.0)  -  empty\n",
      "(238.25, 555.0, 357.375, 647.5)  -  occupied\n",
      "(238.25, 647.5, 357.375, 740.0)  -  occupied\n",
      "(357.375, 0, 476.5, 92.5)  -  occupied\n",
      "(357.375, 92.5, 476.5, 185.0)  -  occupied\n",
      "(357.375, 185.0, 476.5, 277.5)  -  occupied\n",
      "(357.375, 277.5, 476.5, 370.0)  -  occupied\n",
      "(357.375, 370.0, 476.5, 462.5)  -  occupied\n",
      "(357.375, 462.5, 476.5, 555.0)  -  occupied\n",
      "(357.375, 555.0, 476.5, 647.5)  -  occupied\n",
      "(357.375, 647.5, 476.5, 740.0)  -  occupied\n",
      "(476.5, 0, 595.625, 92.5)  -  occupied\n",
      "(476.5, 92.5, 595.625, 185.0)  -  empty\n",
      "(476.5, 185.0, 595.625, 277.5)  -  occupied\n",
      "(476.5, 277.5, 595.625, 370.0)  -  empty\n",
      "(476.5, 370.0, 595.625, 462.5)  -  occupied\n",
      "(476.5, 462.5, 595.625, 555.0)  -  empty\n",
      "(476.5, 555.0, 595.625, 647.5)  -  occupied\n",
      "(476.5, 647.5, 595.625, 740.0)  -  empty\n",
      "(595.625, 0, 714.75, 92.5)  -  occupied\n",
      "(595.625, 92.5, 714.75, 185.0)  -  occupied\n",
      "(595.625, 185.0, 714.75, 277.5)  -  occupied\n",
      "(595.625, 277.5, 714.75, 370.0)  -  empty\n",
      "(595.625, 370.0, 714.75, 462.5)  -  occupied\n",
      "(595.625, 462.5, 714.75, 555.0)  -  occupied\n",
      "(595.625, 555.0, 714.75, 647.5)  -  occupied\n",
      "(595.625, 647.5, 714.75, 740.0)  -  empty\n",
      "(714.75, 0, 833.875, 92.5)  -  empty\n",
      "(714.75, 92.5, 833.875, 185.0)  -  occupied\n",
      "(714.75, 185.0, 833.875, 277.5)  -  occupied\n",
      "(714.75, 277.5, 833.875, 370.0)  -  occupied\n",
      "(714.75, 370.0, 833.875, 462.5)  -  empty\n",
      "(714.75, 462.5, 833.875, 555.0)  -  occupied\n",
      "(714.75, 555.0, 833.875, 647.5)  -  occupied\n",
      "(714.75, 647.5, 833.875, 740.0)  -  occupied\n",
      "(833.875, 0, 953.0, 92.5)  -  occupied\n",
      "(833.875, 92.5, 953.0, 185.0)  -  occupied\n",
      "(833.875, 185.0, 953.0, 277.5)  -  occupied\n",
      "(833.875, 277.5, 953.0, 370.0)  -  occupied\n",
      "(833.875, 370.0, 953.0, 462.5)  -  occupied\n",
      "(833.875, 462.5, 953.0, 555.0)  -  occupied\n",
      "(833.875, 555.0, 953.0, 647.5)  -  occupied\n",
      "(833.875, 647.5, 953.0, 740.0)  -  occupied\n"
     ]
    }
   ],
   "source": [
    "for x in cub_list:\n",
    "    #print(x)\n",
    "    cut_img  = input_image.crop(x)\n",
    "    cut_img = cut_img.resize((150,150))\n",
    "    #cut_img.show()\n",
    "    img = np.expand_dims(cut_img, axis=0)\n",
    "    class_predicted = loaded_model.predict(img)\n",
    "    inID = int(class_predicted[0])\n",
    "    label = class_dictionary[inID]\n",
    "    occupancy_list.append(label)\n",
    "    print(x,' - ',label)\n",
    "    #break"
   ]
  },
  {
   "cell_type": "code",
   "execution_count": 17,
   "metadata": {},
   "outputs": [],
   "source": [
    "color = (255, 0, 0)\n",
    "color_num=(255,255,255)\n",
    "thickness = 2"
   ]
  },
  {
   "cell_type": "code",
   "execution_count": 19,
   "metadata": {},
   "outputs": [
    {
     "data": {
      "text/plain": [
       "True"
      ]
     },
     "execution_count": 19,
     "metadata": {},
     "output_type": "execute_result"
    }
   ],
   "source": [
    "img=cv.imread('./images/sample/test1.jpg')\n",
    "c=0\n",
    "emp_count=1\n",
    "for occ in occupancy_list:\n",
    "    mid2=((cub_list[c][3])+(cub_list[c][1]))/2\n",
    "    mid1=((cub_list[c][0])+(cub_list[c][2]))/2\n",
    "    #pic=cv.putText(img,str(emp_count),(int(mid1),int(mid2)) ,2, 2, color_num)\n",
    "    emp_count+=1\n",
    "    if occ=='empty':\n",
    "      pic=cv.rectangle(img,(int(cub_list[c][0]),int(cub_list[c][1])),(int(cub_list[c][2]),int(cub_list[c][3])),color,thickness)\n",
    "    c+=1 \n",
    "cv.imwrite(\"pic7.jpg\",pic)"
   ]
  },
  {
   "cell_type": "code",
   "execution_count": null,
   "metadata": {},
   "outputs": [],
   "source": []
  }
 ],
 "metadata": {
  "kernelspec": {
   "display_name": "Python 3",
   "language": "python",
   "name": "python3"
  },
  "language_info": {
   "codemirror_mode": {
    "name": "ipython",
    "version": 3
   },
   "file_extension": ".py",
   "mimetype": "text/x-python",
   "name": "python",
   "nbconvert_exporter": "python",
   "pygments_lexer": "ipython3",
   "version": "3.7.3"
  }
 },
 "nbformat": 4,
 "nbformat_minor": 2
}
