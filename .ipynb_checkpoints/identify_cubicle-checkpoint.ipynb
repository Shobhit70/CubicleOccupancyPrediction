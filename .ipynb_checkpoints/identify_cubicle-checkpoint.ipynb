{
 "cells": [
  {
   "cell_type": "markdown",
   "metadata": {},
   "source": [
    "## This program takes an input image of an office space and processes it to return the co-ordinates of the cubicle in a pickle file. This program needs to be tuned at the start of the installation for a specific parking lot as a one time setup."
   ]
  },
  {
   "cell_type": "code",
   "execution_count": 1,
   "metadata": {},
   "outputs": [],
   "source": [
    "import numpy as np\n",
    "from PIL import Image as PImage\n",
    "from PIL import Image"
   ]
  },
  {
   "cell_type": "code",
   "execution_count": 2,
   "metadata": {},
   "outputs": [
    {
     "data": {
      "text/plain": [
       "(913, 709)"
      ]
     },
     "execution_count": 2,
     "metadata": {},
     "output_type": "execute_result"
    }
   ],
   "source": [
    "input_image = PImage.open(\"./images/sample/test1.jpg\")\n",
    "input_image.size"
   ]
  },
  {
   "cell_type": "code",
   "execution_count": 3,
   "metadata": {},
   "outputs": [
    {
     "name": "stdout",
     "output_type": "stream",
     "text": [
      "913\n"
     ]
    }
   ],
   "source": [
    "row = 4\n",
    "col= 4\n",
    "img_l = input_image.size[0]\n",
    "img_h = input_image.size[1]\n",
    "print(img_l)"
   ]
  },
  {
   "cell_type": "code",
   "execution_count": 4,
   "metadata": {},
   "outputs": [],
   "source": [
    "list1 = []\n",
    "l = img_l/col\n",
    "h = img_h/row\n",
    "#print(l,h)\n",
    "x = 0\n",
    "y = 0\n",
    "img_cntr = 0\n",
    "for p in range(row):\n",
    "    for q in range(col):\n",
    "        y1 = y\n",
    "        x1 = x\n",
    "        y2 = y+h\n",
    "        x2 = x+l\n",
    "\n",
    "        cut_img = input_image.crop((x1,y1,x2,y2))\n",
    "        #print(x1,y1,x2,y2)\n",
    "        #cut_img.show()\n",
    "        #cut_img.save(\"./cord/\" + str(img_cntr) + \".jpg\")\n",
    "        list1.append((x1,y1,x2,y2))\n",
    "        y = y2\n",
    "    y = 0\n",
    "    x = (p+1)*l"
   ]
  },
  {
   "cell_type": "code",
   "execution_count": 5,
   "metadata": {
    "scrolled": true
   },
   "outputs": [
    {
     "data": {
      "text/plain": [
       "[(0, 0, 228.25, 177.25),\n",
       " (0, 177.25, 228.25, 354.5),\n",
       " (0, 354.5, 228.25, 531.75),\n",
       " (0, 531.75, 228.25, 709.0),\n",
       " (228.25, 0, 456.5, 177.25),\n",
       " (228.25, 177.25, 456.5, 354.5),\n",
       " (228.25, 354.5, 456.5, 531.75),\n",
       " (228.25, 531.75, 456.5, 709.0),\n",
       " (456.5, 0, 684.75, 177.25),\n",
       " (456.5, 177.25, 684.75, 354.5),\n",
       " (456.5, 354.5, 684.75, 531.75),\n",
       " (456.5, 531.75, 684.75, 709.0),\n",
       " (684.75, 0, 913.0, 177.25),\n",
       " (684.75, 177.25, 913.0, 354.5),\n",
       " (684.75, 354.5, 913.0, 531.75),\n",
       " (684.75, 531.75, 913.0, 709.0)]"
      ]
     },
     "execution_count": 5,
     "metadata": {},
     "output_type": "execute_result"
    }
   ],
   "source": [
    "list1"
   ]
  },
  {
   "cell_type": "code",
   "execution_count": 6,
   "metadata": {},
   "outputs": [],
   "source": [
    "img_cntr = 0\n",
    "for x in list1:\n",
    "    cut_img = input_image.crop(x)\n",
    "    img_cntr = img_cntr + 1 \n",
    "    #cut_img.save(\"./cord/\" + str(img_cntr) + \".jpg\")"
   ]
  },
  {
   "cell_type": "code",
   "execution_count": 7,
   "metadata": {},
   "outputs": [],
   "source": [
    "import pickle\n",
    "with open('Occupancy.pickle', 'wb') as handle:\n",
    "    pickle.dump(list1, handle, protocol=pickle.HIGHEST_PROTOCOL)"
   ]
  },
  {
   "cell_type": "code",
   "execution_count": 10,
   "metadata": {},
   "outputs": [],
   "source": [
    "with open('Occupancy.pickle', 'rb') as handle:\n",
    "    list2 = pickle.load(handle)"
   ]
  },
  {
   "cell_type": "code",
   "execution_count": 13,
   "metadata": {},
   "outputs": [
    {
     "data": {
      "text/plain": [
       "16"
      ]
     },
     "execution_count": 13,
     "metadata": {},
     "output_type": "execute_result"
    }
   ],
   "source": [
    "len(list2)"
   ]
  },
  {
   "cell_type": "code",
   "execution_count": null,
   "metadata": {},
   "outputs": [],
   "source": []
  }
 ],
 "metadata": {
  "kernelspec": {
   "display_name": "Python 3",
   "language": "python",
   "name": "python3"
  },
  "language_info": {
   "codemirror_mode": {
    "name": "ipython",
    "version": 3
   },
   "file_extension": ".py",
   "mimetype": "text/x-python",
   "name": "python",
   "nbconvert_exporter": "python",
   "pygments_lexer": "ipython3",
   "version": "3.7.3"
  }
 },
 "nbformat": 4,
 "nbformat_minor": 2
}
