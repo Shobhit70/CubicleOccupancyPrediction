{
 "cells": [
  {
   "cell_type": "markdown",
   "metadata": {},
   "source": [
    "## This program takes an input image of an office space and processes it to return the co-ordinates of the cubicle in a pickle file. This program needs to be tuned at the start of the installation for a specific parking lot as a one time setup."
   ]
  },
  {
   "cell_type": "code",
   "execution_count": 3,
   "metadata": {},
   "outputs": [],
   "source": [
    "import numpy as np\n",
    "from PIL import Image as PImage\n",
    "from PIL import Image"
   ]
  },
  {
   "cell_type": "code",
   "execution_count": 4,
   "metadata": {},
   "outputs": [
    {
     "data": {
      "text/plain": [
       "(953, 740)"
      ]
     },
     "execution_count": 4,
     "metadata": {},
     "output_type": "execute_result"
    }
   ],
   "source": [
    "input_image = PImage.open(\"./images/sample/test1.jpg\")\n",
    "input_image.size"
   ]
  },
  {
   "cell_type": "code",
   "execution_count": 13,
   "metadata": {},
   "outputs": [
    {
     "name": "stdout",
     "output_type": "stream",
     "text": [
      "953\n"
     ]
    }
   ],
   "source": [
    "row = 8\n",
    "col= 8\n",
    "img_l = input_image.size[0]\n",
    "img_h = input_image.size[1]\n",
    "print(img_l)"
   ]
  },
  {
   "cell_type": "code",
   "execution_count": 14,
   "metadata": {},
   "outputs": [],
   "source": [
    "list1 = []\n",
    "l = img_l/col\n",
    "h = img_h/row\n",
    "#print(l,h)\n",
    "x = 0\n",
    "y = 0\n",
    "img_cntr = 0\n",
    "for p in range(row):\n",
    "    for q in range(col):\n",
    "        y1 = y\n",
    "        x1 = x\n",
    "        y2 = y+h\n",
    "        x2 = x+l\n",
    "\n",
    "        cut_img = input_image.crop((x1,y1,x2,y2))\n",
    "        #print(x1,y1,x2,y2)\n",
    "        #cut_img.show()\n",
    "        #cut_img.save(\"./cord/\" + str(img_cntr) + \".jpg\")\n",
    "        list1.append((x1,y1,x2,y2))\n",
    "        y = y2\n",
    "    y = 0\n",
    "    x = (p+1)*l"
   ]
  },
  {
   "cell_type": "code",
   "execution_count": 15,
   "metadata": {
    "scrolled": true
   },
   "outputs": [
    {
     "data": {
      "text/plain": [
       "[(0, 0, 119.125, 92.5),\n",
       " (0, 92.5, 119.125, 185.0),\n",
       " (0, 185.0, 119.125, 277.5),\n",
       " (0, 277.5, 119.125, 370.0),\n",
       " (0, 370.0, 119.125, 462.5),\n",
       " (0, 462.5, 119.125, 555.0),\n",
       " (0, 555.0, 119.125, 647.5),\n",
       " (0, 647.5, 119.125, 740.0),\n",
       " (119.125, 0, 238.25, 92.5),\n",
       " (119.125, 92.5, 238.25, 185.0),\n",
       " (119.125, 185.0, 238.25, 277.5),\n",
       " (119.125, 277.5, 238.25, 370.0),\n",
       " (119.125, 370.0, 238.25, 462.5),\n",
       " (119.125, 462.5, 238.25, 555.0),\n",
       " (119.125, 555.0, 238.25, 647.5),\n",
       " (119.125, 647.5, 238.25, 740.0),\n",
       " (238.25, 0, 357.375, 92.5),\n",
       " (238.25, 92.5, 357.375, 185.0),\n",
       " (238.25, 185.0, 357.375, 277.5),\n",
       " (238.25, 277.5, 357.375, 370.0),\n",
       " (238.25, 370.0, 357.375, 462.5),\n",
       " (238.25, 462.5, 357.375, 555.0),\n",
       " (238.25, 555.0, 357.375, 647.5),\n",
       " (238.25, 647.5, 357.375, 740.0),\n",
       " (357.375, 0, 476.5, 92.5),\n",
       " (357.375, 92.5, 476.5, 185.0),\n",
       " (357.375, 185.0, 476.5, 277.5),\n",
       " (357.375, 277.5, 476.5, 370.0),\n",
       " (357.375, 370.0, 476.5, 462.5),\n",
       " (357.375, 462.5, 476.5, 555.0),\n",
       " (357.375, 555.0, 476.5, 647.5),\n",
       " (357.375, 647.5, 476.5, 740.0),\n",
       " (476.5, 0, 595.625, 92.5),\n",
       " (476.5, 92.5, 595.625, 185.0),\n",
       " (476.5, 185.0, 595.625, 277.5),\n",
       " (476.5, 277.5, 595.625, 370.0),\n",
       " (476.5, 370.0, 595.625, 462.5),\n",
       " (476.5, 462.5, 595.625, 555.0),\n",
       " (476.5, 555.0, 595.625, 647.5),\n",
       " (476.5, 647.5, 595.625, 740.0),\n",
       " (595.625, 0, 714.75, 92.5),\n",
       " (595.625, 92.5, 714.75, 185.0),\n",
       " (595.625, 185.0, 714.75, 277.5),\n",
       " (595.625, 277.5, 714.75, 370.0),\n",
       " (595.625, 370.0, 714.75, 462.5),\n",
       " (595.625, 462.5, 714.75, 555.0),\n",
       " (595.625, 555.0, 714.75, 647.5),\n",
       " (595.625, 647.5, 714.75, 740.0),\n",
       " (714.75, 0, 833.875, 92.5),\n",
       " (714.75, 92.5, 833.875, 185.0),\n",
       " (714.75, 185.0, 833.875, 277.5),\n",
       " (714.75, 277.5, 833.875, 370.0),\n",
       " (714.75, 370.0, 833.875, 462.5),\n",
       " (714.75, 462.5, 833.875, 555.0),\n",
       " (714.75, 555.0, 833.875, 647.5),\n",
       " (714.75, 647.5, 833.875, 740.0),\n",
       " (833.875, 0, 953.0, 92.5),\n",
       " (833.875, 92.5, 953.0, 185.0),\n",
       " (833.875, 185.0, 953.0, 277.5),\n",
       " (833.875, 277.5, 953.0, 370.0),\n",
       " (833.875, 370.0, 953.0, 462.5),\n",
       " (833.875, 462.5, 953.0, 555.0),\n",
       " (833.875, 555.0, 953.0, 647.5),\n",
       " (833.875, 647.5, 953.0, 740.0)]"
      ]
     },
     "execution_count": 15,
     "metadata": {},
     "output_type": "execute_result"
    }
   ],
   "source": [
    "list1"
   ]
  },
  {
   "cell_type": "code",
   "execution_count": 16,
   "metadata": {},
   "outputs": [],
   "source": [
    "img_cntr = 0\n",
    "for x in list1:\n",
    "    cut_img = input_image.crop(x)\n",
    "    img_cntr = img_cntr + 1 \n",
    "    #cut_img.save(\"./cord/\" + str(img_cntr) + \".jpg\")"
   ]
  },
  {
   "cell_type": "code",
   "execution_count": 17,
   "metadata": {},
   "outputs": [],
   "source": [
    "import pickle\n",
    "with open('Occupancy.pickle', 'wb') as handle:\n",
    "    pickle.dump(list1, handle, protocol=pickle.HIGHEST_PROTOCOL)"
   ]
  },
  {
   "cell_type": "code",
   "execution_count": 18,
   "metadata": {},
   "outputs": [],
   "source": [
    "with open('Occupancy.pickle', 'rb') as handle:\n",
    "    list2 = pickle.load(handle)"
   ]
  },
  {
   "cell_type": "code",
   "execution_count": 19,
   "metadata": {},
   "outputs": [
    {
     "data": {
      "text/plain": [
       "64"
      ]
     },
     "execution_count": 19,
     "metadata": {},
     "output_type": "execute_result"
    }
   ],
   "source": [
    "len(list2)"
   ]
  },
  {
   "cell_type": "code",
   "execution_count": null,
   "metadata": {},
   "outputs": [],
   "source": []
  }
 ],
 "metadata": {
  "kernelspec": {
   "display_name": "Python 3",
   "language": "python",
   "name": "python3"
  },
  "language_info": {
   "codemirror_mode": {
    "name": "ipython",
    "version": 3
   },
   "file_extension": ".py",
   "mimetype": "text/x-python",
   "name": "python",
   "nbconvert_exporter": "python",
   "pygments_lexer": "ipython3",
   "version": "3.7.3"
  }
 },
 "nbformat": 4,
 "nbformat_minor": 2
}
